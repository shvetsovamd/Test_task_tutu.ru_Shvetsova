{
 "cells": [
  {
   "cell_type": "code",
   "execution_count": 49,
   "id": "e3e5f02b",
   "metadata": {},
   "outputs": [],
   "source": [
    "import pandas as pd\n",
    "import matplotlib.pyplot as plt\n",
    "from datetime import datetime\n",
    "import numpy as np"
   ]
  },
  {
   "cell_type": "code",
   "execution_count": 50,
   "id": "39c2171c",
   "metadata": {},
   "outputs": [
    {
     "data": {
      "text/html": [
       "<div>\n",
       "<style scoped>\n",
       "    .dataframe tbody tr th:only-of-type {\n",
       "        vertical-align: middle;\n",
       "    }\n",
       "\n",
       "    .dataframe tbody tr th {\n",
       "        vertical-align: top;\n",
       "    }\n",
       "\n",
       "    .dataframe thead th {\n",
       "        text-align: right;\n",
       "    }\n",
       "</style>\n",
       "<table border=\"1\" class=\"dataframe\">\n",
       "  <thead>\n",
       "    <tr style=\"text-align: right;\">\n",
       "      <th></th>\n",
       "      <th>order_id</th>\n",
       "      <th>page_id</th>\n",
       "      <th>product</th>\n",
       "      <th>site_version</th>\n",
       "      <th>time</th>\n",
       "      <th>title</th>\n",
       "      <th>user</th>\n",
       "    </tr>\n",
       "  </thead>\n",
       "  <tbody>\n",
       "    <tr>\n",
       "      <th>0</th>\n",
       "      <td>NaN</td>\n",
       "      <td>3.0</td>\n",
       "      <td>company</td>\n",
       "      <td>mobile</td>\n",
       "      <td>2017-02-09 20:24:04</td>\n",
       "      <td>banner_show</td>\n",
       "      <td>user_0</td>\n",
       "    </tr>\n",
       "    <tr>\n",
       "      <th>1</th>\n",
       "      <td>NaN</td>\n",
       "      <td>3699687.0</td>\n",
       "      <td>company</td>\n",
       "      <td>mobile</td>\n",
       "      <td>2017-02-07 10:03:07</td>\n",
       "      <td>banner_show</td>\n",
       "      <td>user_0</td>\n",
       "    </tr>\n",
       "    <tr>\n",
       "      <th>2</th>\n",
       "      <td>NaN</td>\n",
       "      <td>14.0</td>\n",
       "      <td>sneakers</td>\n",
       "      <td>mobile</td>\n",
       "      <td>2017-01-29 13:02:23</td>\n",
       "      <td>banner_show</td>\n",
       "      <td>user_1</td>\n",
       "    </tr>\n",
       "    <tr>\n",
       "      <th>3</th>\n",
       "      <td>NaN</td>\n",
       "      <td>10362176.0</td>\n",
       "      <td>company</td>\n",
       "      <td>mobile</td>\n",
       "      <td>2017-04-12 15:39:19</td>\n",
       "      <td>banner_show</td>\n",
       "      <td>user_1</td>\n",
       "    </tr>\n",
       "    <tr>\n",
       "      <th>4</th>\n",
       "      <td>NaN</td>\n",
       "      <td>14.0</td>\n",
       "      <td>sneakers</td>\n",
       "      <td>mobile</td>\n",
       "      <td>2017-01-29 13:04:42</td>\n",
       "      <td>banner_click</td>\n",
       "      <td>user_1</td>\n",
       "    </tr>\n",
       "    <tr>\n",
       "      <th>...</th>\n",
       "      <td>...</td>\n",
       "      <td>...</td>\n",
       "      <td>...</td>\n",
       "      <td>...</td>\n",
       "      <td>...</td>\n",
       "      <td>...</td>\n",
       "      <td>...</td>\n",
       "    </tr>\n",
       "    <tr>\n",
       "      <th>8471221</th>\n",
       "      <td>NaN</td>\n",
       "      <td>24897184.0</td>\n",
       "      <td>accessories</td>\n",
       "      <td>desktop</td>\n",
       "      <td>2017-05-23 14:07:00</td>\n",
       "      <td>banner_show</td>\n",
       "      <td>user_4254616</td>\n",
       "    </tr>\n",
       "    <tr>\n",
       "      <th>8471222</th>\n",
       "      <td>NaN</td>\n",
       "      <td>24897190.0</td>\n",
       "      <td>clothes</td>\n",
       "      <td>mobile</td>\n",
       "      <td>2017-05-28 08:10:20</td>\n",
       "      <td>banner_show</td>\n",
       "      <td>user_4254617</td>\n",
       "    </tr>\n",
       "    <tr>\n",
       "      <th>8471223</th>\n",
       "      <td>NaN</td>\n",
       "      <td>24897203.0</td>\n",
       "      <td>sports_nutrition</td>\n",
       "      <td>mobile</td>\n",
       "      <td>2017-05-20 09:20:50</td>\n",
       "      <td>banner_show</td>\n",
       "      <td>user_4254618</td>\n",
       "    </tr>\n",
       "    <tr>\n",
       "      <th>8471224</th>\n",
       "      <td>NaN</td>\n",
       "      <td>24897205.0</td>\n",
       "      <td>sneakers</td>\n",
       "      <td>mobile</td>\n",
       "      <td>2017-05-28 19:25:42</td>\n",
       "      <td>banner_show</td>\n",
       "      <td>user_4254619</td>\n",
       "    </tr>\n",
       "    <tr>\n",
       "      <th>8471225</th>\n",
       "      <td>NaN</td>\n",
       "      <td>24897215.0</td>\n",
       "      <td>accessories</td>\n",
       "      <td>mobile</td>\n",
       "      <td>2017-05-31 09:18:24</td>\n",
       "      <td>banner_show</td>\n",
       "      <td>user_4254620</td>\n",
       "    </tr>\n",
       "  </tbody>\n",
       "</table>\n",
       "<p>8471226 rows × 7 columns</p>\n",
       "</div>"
      ],
      "text/plain": [
       "         order_id     page_id           product site_version  \\\n",
       "0             NaN         3.0           company       mobile   \n",
       "1             NaN   3699687.0           company       mobile   \n",
       "2             NaN        14.0          sneakers       mobile   \n",
       "3             NaN  10362176.0           company       mobile   \n",
       "4             NaN        14.0          sneakers       mobile   \n",
       "...           ...         ...               ...          ...   \n",
       "8471221       NaN  24897184.0       accessories      desktop   \n",
       "8471222       NaN  24897190.0           clothes       mobile   \n",
       "8471223       NaN  24897203.0  sports_nutrition       mobile   \n",
       "8471224       NaN  24897205.0          sneakers       mobile   \n",
       "8471225       NaN  24897215.0       accessories       mobile   \n",
       "\n",
       "                        time         title          user  \n",
       "0        2017-02-09 20:24:04   banner_show        user_0  \n",
       "1        2017-02-07 10:03:07   banner_show        user_0  \n",
       "2        2017-01-29 13:02:23   banner_show        user_1  \n",
       "3        2017-04-12 15:39:19   banner_show        user_1  \n",
       "4        2017-01-29 13:04:42  banner_click        user_1  \n",
       "...                      ...           ...           ...  \n",
       "8471221  2017-05-23 14:07:00   banner_show  user_4254616  \n",
       "8471222  2017-05-28 08:10:20   banner_show  user_4254617  \n",
       "8471223  2017-05-20 09:20:50   banner_show  user_4254618  \n",
       "8471224  2017-05-28 19:25:42   banner_show  user_4254619  \n",
       "8471225  2017-05-31 09:18:24   banner_show  user_4254620  \n",
       "\n",
       "[8471226 rows x 7 columns]"
      ]
     },
     "execution_count": 50,
     "metadata": {},
     "output_type": "execute_result"
    }
   ],
   "source": [
    "df = pd.read_csv(\"C:/Users/Мария/Downloads/ha_data/ha_data.csv\", sep=\";\")\n",
    "df"
   ]
  },
  {
   "cell_type": "raw",
   "id": "0aa03e73",
   "metadata": {},
   "source": [
    "посмотрим, каких действий сколько"
   ]
  },
  {
   "cell_type": "code",
   "execution_count": 51,
   "id": "a47b361a",
   "metadata": {},
   "outputs": [
    {
     "data": {
      "text/plain": [
       "banner_show     7393319\n",
       "banner_click     829185\n",
       "order            248722\n",
       "Name: title, dtype: int64"
      ]
     },
     "execution_count": 51,
     "metadata": {},
     "output_type": "execute_result"
    }
   ],
   "source": [
    "events = df[\"title\"].value_counts()\n",
    "events"
   ]
  },
  {
   "cell_type": "raw",
   "id": "cd9ecbae",
   "metadata": {},
   "source": [
    "Посмотрим, какой товар рекламиовался больше"
   ]
  },
  {
   "cell_type": "code",
   "execution_count": 52,
   "id": "84e961a3",
   "metadata": {},
   "outputs": [
    {
     "data": {
      "text/html": [
       "<div>\n",
       "<style scoped>\n",
       "    .dataframe tbody tr th:only-of-type {\n",
       "        vertical-align: middle;\n",
       "    }\n",
       "\n",
       "    .dataframe tbody tr th {\n",
       "        vertical-align: top;\n",
       "    }\n",
       "\n",
       "    .dataframe thead th {\n",
       "        text-align: right;\n",
       "    }\n",
       "</style>\n",
       "<table border=\"1\" class=\"dataframe\">\n",
       "  <thead>\n",
       "    <tr style=\"text-align: right;\">\n",
       "      <th></th>\n",
       "      <th>product</th>\n",
       "    </tr>\n",
       "  </thead>\n",
       "  <tbody>\n",
       "    <tr>\n",
       "      <th>company</th>\n",
       "      <td>1580238</td>\n",
       "    </tr>\n",
       "    <tr>\n",
       "      <th>sports_nutrition</th>\n",
       "      <td>1465970</td>\n",
       "    </tr>\n",
       "    <tr>\n",
       "      <th>clothes</th>\n",
       "      <td>1453128</td>\n",
       "    </tr>\n",
       "    <tr>\n",
       "      <th>sneakers</th>\n",
       "      <td>1453029</td>\n",
       "    </tr>\n",
       "    <tr>\n",
       "      <th>accessories</th>\n",
       "      <td>1440954</td>\n",
       "    </tr>\n",
       "  </tbody>\n",
       "</table>\n",
       "</div>"
      ],
      "text/plain": [
       "                  product\n",
       "company           1580238\n",
       "sports_nutrition  1465970\n",
       "clothes           1453128\n",
       "sneakers          1453029\n",
       "accessories       1440954"
      ]
     },
     "execution_count": 52,
     "metadata": {},
     "output_type": "execute_result"
    }
   ],
   "source": [
    "poster = df[df[\"title\"] == \"banner_show\"]\n",
    "poster = poster[\"product\"].value_counts().to_frame()\n",
    "poster"
   ]
  },
  {
   "cell_type": "code",
   "execution_count": 53,
   "id": "9f602644",
   "metadata": {},
   "outputs": [
    {
     "data": {
      "text/plain": [
       "company             1580238\n",
       "sports_nutrition    1465970\n",
       "clothes             1453128\n",
       "sneakers            1453029\n",
       "accessories         1440954\n",
       "Name: product, dtype: int32"
      ]
     },
     "execution_count": 53,
     "metadata": {},
     "output_type": "execute_result"
    }
   ],
   "source": [
    "poster[\"product\"].astype(int)"
   ]
  },
  {
   "cell_type": "code",
   "execution_count": 54,
   "id": "ad94669a",
   "metadata": {},
   "outputs": [
    {
     "data": {
      "text/plain": [
       "(-1.1118834921298268,\n",
       " 1.1005658805776108,\n",
       " -1.1210389629642945,\n",
       " 1.1234556814681087)"
      ]
     },
     "execution_count": 54,
     "metadata": {},
     "output_type": "execute_result"
    },
    {
     "data": {
      "image/png": "[encoded data removed]",
      "text/plain": [
       "<Figure size 432x288 with 1 Axes>"
      ]
     },
     "metadata": {},
     "output_type": "display_data"
    }
   ],
   "source": [
    "vals = poster[\"product\"]\n",
    "labels = poster.index\n",
    "fig, ax = plt.subplots()\n",
    "ax.pie(vals, labels=labels, autopct='%1.1f%%')\n",
    "ax.axis(\"equal\")"
   ]
  },
  {
   "cell_type": "raw",
   "id": "decc8fe7",
   "metadata": {},
   "source": [
    "как видно по диаграмме, на баннере все виды товаров рекламировались примерно в одинаковом количестве\n",
    "посмотрим, на что больше кликали"
   ]
  },
  {
   "cell_type": "code",
   "execution_count": 55,
   "id": "2da25cd9",
   "metadata": {},
   "outputs": [
    {
     "name": "stdout",
     "output_type": "stream",
     "text": [
      "                  product\n",
      "clothes            220595\n",
      "sneakers           182597\n",
      "sports_nutrition   144918\n",
      "company            144821\n",
      "accessories        136254\n"
     ]
    },
    {
     "data": {
      "text/plain": [
       "(-1.1127684882479927,\n",
       " 1.1006080232499045,\n",
       " -1.1023965946393381,\n",
       " 1.1095333712328979)"
      ]
     },
     "execution_count": 55,
     "metadata": {},
     "output_type": "execute_result"
    },
    {
     "data": {
      "image/png": "[encoded data removed]",
      "text/plain": [
       "<Figure size 432x288 with 1 Axes>"
      ]
     },
     "metadata": {},
     "output_type": "display_data"
    }
   ],
   "source": [
    "clicks = df[df[\"title\"] == \"banner_click\"]\n",
    "clicks = clicks[\"product\"].value_counts().to_frame()\n",
    "print(clicks)\n",
    "\n",
    "vals = clicks[\"product\"]\n",
    "labels = clicks.index\n",
    "fig, ax = plt.subplots()\n",
    "ax.pie(vals, labels=labels, autopct='%1.1f%%')\n",
    "ax.axis(\"equal\")"
   ]
  },
  {
   "cell_type": "raw",
   "id": "18745b1b",
   "metadata": {},
   "source": [
    "здесь уже разница более ощутима: количество кликов на clothes заметно выше количества кликов на остальные разделы\n",
    "company - показов больше всего, однако по кликам на пердпоследнем месте\n",
    "\n",
    "посмотрим, что чаще покупали"
   ]
  },
  {
   "cell_type": "code",
   "execution_count": 56,
   "id": "1e1c1250",
   "metadata": {},
   "outputs": [
    {
     "name": "stdout",
     "output_type": "stream",
     "text": [
      "                  product\n",
      "clothes            112715\n",
      "sneakers            67719\n",
      "accessories         44551\n",
      "sports_nutrition    23737\n"
     ]
    },
    {
     "data": {
      "text/plain": [
       "(-1.1106565278237575,\n",
       " 1.1005074537058932,\n",
       " -1.1192095043207841,\n",
       " 1.1264155093560158)"
      ]
     },
     "execution_count": 56,
     "metadata": {},
     "output_type": "execute_result"
    },
    {
     "data": {
      "image/png": "[encoded data removed]",
      "text/plain": [
       "<Figure size 432x288 with 1 Axes>"
      ]
     },
     "metadata": {},
     "output_type": "display_data"
    }
   ],
   "source": [
    "bought = df[df[\"title\"] == \"order\"]\n",
    "bought = bought[\"product\"].value_counts().to_frame()\n",
    "print(bought)\n",
    "\n",
    "vals = bought[\"product\"]\n",
    "labels = bought.index\n",
    "fig, ax = plt.subplots()\n",
    "ax.pie(vals, labels=labels, autopct='%1.1f%%')\n",
    "ax.axis(\"equal\")"
   ]
  },
  {
   "cell_type": "raw",
   "id": "7f2caa56",
   "metadata": {},
   "source": [
    "Разница в объеме покупок в различных категориях очень заметна, цифры могут это подтвердить\n",
    "можно ли сделать вывод, что от количества кликов на баннер слабо зависит, купит ли пользователь товар, ведь если посмотреть на соотношение числа кликов, оно отличается гораздо менее сильно, чем соотношение покупок?\n",
    "\n",
    "Вывод делать еще рано. Поскольку нам известно время каждого из действий, есть возможность посмотреть, как во времени распределено число каждого из действий. От схожести распределений будет зависеть, возможна ли корреляция между ними. Построим несколько боксплотов для наглядности"
   ]
  },
  {
   "cell_type": "code",
   "execution_count": 57,
   "id": "9965c9b4",
   "metadata": {},
   "outputs": [
    {
     "data": {
      "text/html": [
       "<div>\n",
       "<style scoped>\n",
       "    .dataframe tbody tr th:only-of-type {\n",
       "        vertical-align: middle;\n",
       "    }\n",
       "\n",
       "    .dataframe tbody tr th {\n",
       "        vertical-align: top;\n",
       "    }\n",
       "\n",
       "    .dataframe thead th {\n",
       "        text-align: right;\n",
       "    }\n",
       "</style>\n",
       "<table border=\"1\" class=\"dataframe\">\n",
       "  <thead>\n",
       "    <tr style=\"text-align: right;\">\n",
       "      <th></th>\n",
       "      <th>order_id</th>\n",
       "      <th>page_id</th>\n",
       "      <th>product</th>\n",
       "      <th>site_version</th>\n",
       "      <th>time</th>\n",
       "      <th>title</th>\n",
       "      <th>user</th>\n",
       "      <th>seconds</th>\n",
       "    </tr>\n",
       "  </thead>\n",
       "  <tbody>\n",
       "    <tr>\n",
       "      <th>0</th>\n",
       "      <td>NaN</td>\n",
       "      <td>3.0</td>\n",
       "      <td>company</td>\n",
       "      <td>mobile</td>\n",
       "      <td>2017-02-09 20:24:04</td>\n",
       "      <td>banner_show</td>\n",
       "      <td>user_0</td>\n",
       "      <td>6.362227e+10</td>\n",
       "    </tr>\n",
       "    <tr>\n",
       "      <th>1</th>\n",
       "      <td>NaN</td>\n",
       "      <td>3699687.0</td>\n",
       "      <td>company</td>\n",
       "      <td>mobile</td>\n",
       "      <td>2017-02-07 10:03:07</td>\n",
       "      <td>banner_show</td>\n",
       "      <td>user_0</td>\n",
       "      <td>6.362206e+10</td>\n",
       "    </tr>\n",
       "    <tr>\n",
       "      <th>2</th>\n",
       "      <td>NaN</td>\n",
       "      <td>14.0</td>\n",
       "      <td>sneakers</td>\n",
       "      <td>mobile</td>\n",
       "      <td>2017-01-29 13:02:23</td>\n",
       "      <td>banner_show</td>\n",
       "      <td>user_1</td>\n",
       "      <td>6.362129e+10</td>\n",
       "    </tr>\n",
       "    <tr>\n",
       "      <th>3</th>\n",
       "      <td>NaN</td>\n",
       "      <td>10362176.0</td>\n",
       "      <td>company</td>\n",
       "      <td>mobile</td>\n",
       "      <td>2017-04-12 15:39:19</td>\n",
       "      <td>banner_show</td>\n",
       "      <td>user_1</td>\n",
       "      <td>6.362761e+10</td>\n",
       "    </tr>\n",
       "    <tr>\n",
       "      <th>4</th>\n",
       "      <td>NaN</td>\n",
       "      <td>14.0</td>\n",
       "      <td>sneakers</td>\n",
       "      <td>mobile</td>\n",
       "      <td>2017-01-29 13:04:42</td>\n",
       "      <td>banner_click</td>\n",
       "      <td>user_1</td>\n",
       "      <td>6.362129e+10</td>\n",
       "    </tr>\n",
       "    <tr>\n",
       "      <th>...</th>\n",
       "      <td>...</td>\n",
       "      <td>...</td>\n",
       "      <td>...</td>\n",
       "      <td>...</td>\n",
       "      <td>...</td>\n",
       "      <td>...</td>\n",
       "      <td>...</td>\n",
       "      <td>...</td>\n",
       "    </tr>\n",
       "    <tr>\n",
       "      <th>8471221</th>\n",
       "      <td>NaN</td>\n",
       "      <td>24897184.0</td>\n",
       "      <td>accessories</td>\n",
       "      <td>desktop</td>\n",
       "      <td>2017-05-23 14:07:00</td>\n",
       "      <td>banner_show</td>\n",
       "      <td>user_4254616</td>\n",
       "      <td>6.363115e+10</td>\n",
       "    </tr>\n",
       "    <tr>\n",
       "      <th>8471222</th>\n",
       "      <td>NaN</td>\n",
       "      <td>24897190.0</td>\n",
       "      <td>clothes</td>\n",
       "      <td>mobile</td>\n",
       "      <td>2017-05-28 08:10:20</td>\n",
       "      <td>banner_show</td>\n",
       "      <td>user_4254617</td>\n",
       "      <td>6.363156e+10</td>\n",
       "    </tr>\n",
       "    <tr>\n",
       "      <th>8471223</th>\n",
       "      <td>NaN</td>\n",
       "      <td>24897203.0</td>\n",
       "      <td>sports_nutrition</td>\n",
       "      <td>mobile</td>\n",
       "      <td>2017-05-20 09:20:50</td>\n",
       "      <td>banner_show</td>\n",
       "      <td>user_4254618</td>\n",
       "      <td>6.363087e+10</td>\n",
       "    </tr>\n",
       "    <tr>\n",
       "      <th>8471224</th>\n",
       "      <td>NaN</td>\n",
       "      <td>24897205.0</td>\n",
       "      <td>sneakers</td>\n",
       "      <td>mobile</td>\n",
       "      <td>2017-05-28 19:25:42</td>\n",
       "      <td>banner_show</td>\n",
       "      <td>user_4254619</td>\n",
       "      <td>6.363160e+10</td>\n",
       "    </tr>\n",
       "    <tr>\n",
       "      <th>8471225</th>\n",
       "      <td>NaN</td>\n",
       "      <td>24897215.0</td>\n",
       "      <td>accessories</td>\n",
       "      <td>mobile</td>\n",
       "      <td>2017-05-31 09:18:24</td>\n",
       "      <td>banner_show</td>\n",
       "      <td>user_4254620</td>\n",
       "      <td>6.363182e+10</td>\n",
       "    </tr>\n",
       "  </tbody>\n",
       "</table>\n",
       "<p>8471226 rows × 8 columns</p>\n",
       "</div>"
      ],
      "text/plain": [
       "         order_id     page_id           product site_version  \\\n",
       "0             NaN         3.0           company       mobile   \n",
       "1             NaN   3699687.0           company       mobile   \n",
       "2             NaN        14.0          sneakers       mobile   \n",
       "3             NaN  10362176.0           company       mobile   \n",
       "4             NaN        14.0          sneakers       mobile   \n",
       "...           ...         ...               ...          ...   \n",
       "8471221       NaN  24897184.0       accessories      desktop   \n",
       "8471222       NaN  24897190.0           clothes       mobile   \n",
       "8471223       NaN  24897203.0  sports_nutrition       mobile   \n",
       "8471224       NaN  24897205.0          sneakers       mobile   \n",
       "8471225       NaN  24897215.0       accessories       mobile   \n",
       "\n",
       "                        time         title          user       seconds  \n",
       "0        2017-02-09 20:24:04   banner_show        user_0  6.362227e+10  \n",
       "1        2017-02-07 10:03:07   banner_show        user_0  6.362206e+10  \n",
       "2        2017-01-29 13:02:23   banner_show        user_1  6.362129e+10  \n",
       "3        2017-04-12 15:39:19   banner_show        user_1  6.362761e+10  \n",
       "4        2017-01-29 13:04:42  banner_click        user_1  6.362129e+10  \n",
       "...                      ...           ...           ...           ...  \n",
       "8471221  2017-05-23 14:07:00   banner_show  user_4254616  6.363115e+10  \n",
       "8471222  2017-05-28 08:10:20   banner_show  user_4254617  6.363156e+10  \n",
       "8471223  2017-05-20 09:20:50   banner_show  user_4254618  6.363087e+10  \n",
       "8471224  2017-05-28 19:25:42   banner_show  user_4254619  6.363160e+10  \n",
       "8471225  2017-05-31 09:18:24   banner_show  user_4254620  6.363182e+10  \n",
       "\n",
       "[8471226 rows x 8 columns]"
      ]
     },
     "execution_count": 57,
     "metadata": {},
     "output_type": "execute_result"
    }
   ],
   "source": [
    "df[\"seconds\"] = df['time'].map(lambda x: (datetime.strptime(x, \"%Y-%m-%d %H:%M:%S\") - datetime(1, 1, 1)).total_seconds())\n",
    "df"
   ]
  },
  {
   "cell_type": "code",
   "execution_count": 58,
   "id": "02a2f960",
   "metadata": {},
   "outputs": [
    {
     "name": "stderr",
     "output_type": "stream",
     "text": [
      "C:\\Users\\Мария\\AppData\\Local\\Temp\\ipykernel_9364\\2942295996.py:11: UserWarning: FixedFormatter should only be used together with FixedLocator\n",
      "  ax.set_xticklabels(np.repeat([\"banner_show\", \"order\", \"banner_click\"], 1), rotation=0, fontsize=12)\n"
     ]
    },
    {
     "data": {
      "image/png": "[encoded data removed]",
      "text/plain": [
       "<Figure size 720x504 with 1 Axes>"
      ]
     },
     "metadata": {
      "needs_background": "light"
     },
     "output_type": "display_data"
    }
   ],
   "source": [
    "df_show = df.loc[df[\"title\"] == \"banner_show\"]\n",
    "df_order = df.loc[df[\"title\"] == \"order\"]\n",
    "df_click = df.loc[df[\"title\"] == \"banner_click\"]\n",
    "\n",
    "data = [df_show[\"seconds\"], df_order[\"seconds\"], df_click[\"seconds\"]]\n",
    "\n",
    "fig = plt.figure(figsize =(10, 7))\n",
    "\n",
    "# Creating axes instance\n",
    "ax = fig.add_axes([0, 0, 1, 1])\n",
    "ax.set_xticklabels(np.repeat([\"banner_show\", \"order\", \"banner_click\"], 1), rotation=0, fontsize=12)\n",
    "\n",
    "# Creating plot\n",
    "bp = ax.boxplot(data)\n",
    "\n",
    "plt.xlabel(\"boxplits\")\n",
    "plt.ylabel(\"seconds\")\n",
    "\n",
    "# show plot\n",
    "plt.show()"
   ]
  },
  {
   "cell_type": "raw",
   "id": "2d609f62",
   "metadata": {},
   "source": [
    "Все три графика схожи между собой, а графики числа показов баннера и числа кликов и вовсе совпадают. Интересно, что медиана графика заказов чуть ниже медиан других графиков\n",
    "\n",
    "Видно, что действия выполнялись в один и тот же период, также можно отметить, чо между числом кликов и числом показов есть прямая корреляция. Боксплот для числа заказов отличается от остальных графиков. Попробуем просторить гистограммы для числа кликов, числа заказов и числа показов баннера. Для начала отсортируем записи по времени."
   ]
  },
  {
   "cell_type": "code",
   "execution_count": 11,
   "id": "e1deffe1",
   "metadata": {},
   "outputs": [
    {
     "data": {
      "text/html": [
       "<div>\n",
       "<style scoped>\n",
       "    .dataframe tbody tr th:only-of-type {\n",
       "        vertical-align: middle;\n",
       "    }\n",
       "\n",
       "    .dataframe tbody tr th {\n",
       "        vertical-align: top;\n",
       "    }\n",
       "\n",
       "    .dataframe thead th {\n",
       "        text-align: right;\n",
       "    }\n",
       "</style>\n",
       "<table border=\"1\" class=\"dataframe\">\n",
       "  <thead>\n",
       "    <tr style=\"text-align: right;\">\n",
       "      <th></th>\n",
       "      <th>order_id</th>\n",
       "      <th>page_id</th>\n",
       "      <th>product</th>\n",
       "      <th>site_version</th>\n",
       "      <th>time</th>\n",
       "      <th>title</th>\n",
       "      <th>user</th>\n",
       "      <th>seconds</th>\n",
       "    </tr>\n",
       "  </thead>\n",
       "  <tbody>\n",
       "    <tr>\n",
       "      <th>2989252</th>\n",
       "      <td>NaN</td>\n",
       "      <td>7446868.0</td>\n",
       "      <td>accessories</td>\n",
       "      <td>desktop</td>\n",
       "      <td>2017-01-01 00:00:03</td>\n",
       "      <td>banner_show</td>\n",
       "      <td>user_1365850</td>\n",
       "      <td>6.361883e+10</td>\n",
       "    </tr>\n",
       "    <tr>\n",
       "      <th>2407919</th>\n",
       "      <td>NaN</td>\n",
       "      <td>5639042.0</td>\n",
       "      <td>accessories</td>\n",
       "      <td>mobile</td>\n",
       "      <td>2017-01-01 00:00:05</td>\n",
       "      <td>banner_show</td>\n",
       "      <td>user_1064565</td>\n",
       "      <td>6.361883e+10</td>\n",
       "    </tr>\n",
       "    <tr>\n",
       "      <th>2595058</th>\n",
       "      <td>NaN</td>\n",
       "      <td>7310704.0</td>\n",
       "      <td>clothes</td>\n",
       "      <td>desktop</td>\n",
       "      <td>2017-01-01 00:00:15</td>\n",
       "      <td>banner_show</td>\n",
       "      <td>user_1162467</td>\n",
       "      <td>6.361883e+10</td>\n",
       "    </tr>\n",
       "    <tr>\n",
       "      <th>1764739</th>\n",
       "      <td>NaN</td>\n",
       "      <td>3745903.0</td>\n",
       "      <td>sneakers</td>\n",
       "      <td>mobile</td>\n",
       "      <td>2017-01-01 00:00:25</td>\n",
       "      <td>banner_show</td>\n",
       "      <td>user_742569</td>\n",
       "      <td>6.361883e+10</td>\n",
       "    </tr>\n",
       "    <tr>\n",
       "      <th>3918929</th>\n",
       "      <td>NaN</td>\n",
       "      <td>10200275.0</td>\n",
       "      <td>company</td>\n",
       "      <td>desktop</td>\n",
       "      <td>2017-01-01 00:00:25</td>\n",
       "      <td>banner_show</td>\n",
       "      <td>user_1827807</td>\n",
       "      <td>6.361883e+10</td>\n",
       "    </tr>\n",
       "    <tr>\n",
       "      <th>...</th>\n",
       "      <td>...</td>\n",
       "      <td>...</td>\n",
       "      <td>...</td>\n",
       "      <td>...</td>\n",
       "      <td>...</td>\n",
       "      <td>...</td>\n",
       "      <td>...</td>\n",
       "      <td>...</td>\n",
       "    </tr>\n",
       "    <tr>\n",
       "      <th>8151182</th>\n",
       "      <td>NaN</td>\n",
       "      <td>23601866.0</td>\n",
       "      <td>company</td>\n",
       "      <td>mobile</td>\n",
       "      <td>2017-05-31 23:59:37</td>\n",
       "      <td>banner_show</td>\n",
       "      <td>user_4047676</td>\n",
       "      <td>6.363187e+10</td>\n",
       "    </tr>\n",
       "    <tr>\n",
       "      <th>8165105</th>\n",
       "      <td>NaN</td>\n",
       "      <td>23658876.0</td>\n",
       "      <td>clothes</td>\n",
       "      <td>desktop</td>\n",
       "      <td>2017-05-31 23:59:40</td>\n",
       "      <td>banner_show</td>\n",
       "      <td>user_4056326</td>\n",
       "      <td>6.363187e+10</td>\n",
       "    </tr>\n",
       "    <tr>\n",
       "      <th>8363442</th>\n",
       "      <td>NaN</td>\n",
       "      <td>24446787.0</td>\n",
       "      <td>sports_nutrition</td>\n",
       "      <td>mobile</td>\n",
       "      <td>2017-05-31 23:59:51</td>\n",
       "      <td>banner_click</td>\n",
       "      <td>user_4182938</td>\n",
       "      <td>6.363187e+10</td>\n",
       "    </tr>\n",
       "    <tr>\n",
       "      <th>7808442</th>\n",
       "      <td>NaN</td>\n",
       "      <td>22326691.0</td>\n",
       "      <td>clothes</td>\n",
       "      <td>mobile</td>\n",
       "      <td>2017-05-31 23:59:53</td>\n",
       "      <td>banner_show</td>\n",
       "      <td>user_3843064</td>\n",
       "      <td>6.363187e+10</td>\n",
       "    </tr>\n",
       "    <tr>\n",
       "      <th>7880258</th>\n",
       "      <td>354948.0</td>\n",
       "      <td>NaN</td>\n",
       "      <td>clothes</td>\n",
       "      <td>desktop</td>\n",
       "      <td>2017-05-31 23:59:58</td>\n",
       "      <td>order</td>\n",
       "      <td>user_3884986</td>\n",
       "      <td>6.363187e+10</td>\n",
       "    </tr>\n",
       "  </tbody>\n",
       "</table>\n",
       "<p>8471226 rows × 8 columns</p>\n",
       "</div>"
      ],
      "text/plain": [
       "         order_id     page_id           product site_version  \\\n",
       "2989252       NaN   7446868.0       accessories      desktop   \n",
       "2407919       NaN   5639042.0       accessories       mobile   \n",
       "2595058       NaN   7310704.0           clothes      desktop   \n",
       "1764739       NaN   3745903.0          sneakers       mobile   \n",
       "3918929       NaN  10200275.0           company      desktop   \n",
       "...           ...         ...               ...          ...   \n",
       "8151182       NaN  23601866.0           company       mobile   \n",
       "8165105       NaN  23658876.0           clothes      desktop   \n",
       "8363442       NaN  24446787.0  sports_nutrition       mobile   \n",
       "7808442       NaN  22326691.0           clothes       mobile   \n",
       "7880258  354948.0         NaN           clothes      desktop   \n",
       "\n",
       "                        time         title          user       seconds  \n",
       "2989252  2017-01-01 00:00:03   banner_show  user_1365850  6.361883e+10  \n",
       "2407919  2017-01-01 00:00:05   banner_show  user_1064565  6.361883e+10  \n",
       "2595058  2017-01-01 00:00:15   banner_show  user_1162467  6.361883e+10  \n",
       "1764739  2017-01-01 00:00:25   banner_show   user_742569  6.361883e+10  \n",
       "3918929  2017-01-01 00:00:25   banner_show  user_1827807  6.361883e+10  \n",
       "...                      ...           ...           ...           ...  \n",
       "8151182  2017-05-31 23:59:37   banner_show  user_4047676  6.363187e+10  \n",
       "8165105  2017-05-31 23:59:40   banner_show  user_4056326  6.363187e+10  \n",
       "8363442  2017-05-31 23:59:51  banner_click  user_4182938  6.363187e+10  \n",
       "7808442  2017-05-31 23:59:53   banner_show  user_3843064  6.363187e+10  \n",
       "7880258  2017-05-31 23:59:58         order  user_3884986  6.363187e+10  \n",
       "\n",
       "[8471226 rows x 8 columns]"
      ]
     },
     "execution_count": 11,
     "metadata": {},
     "output_type": "execute_result"
    }
   ],
   "source": [
    "df.sort_values(axis = 0, by=\"seconds\")"
   ]
  },
  {
   "cell_type": "raw",
   "id": "c64e79b7",
   "metadata": {},
   "source": [
    "После сортировки значений по времени можно заметить, что наблюдения проводились с 2017-01-10 по 2017-05-31, то есть практически ровно 5 месяцев. Судя по календарю за 2017 год, этот период равен 21 неделе и 4 дням. Построим же гистограмму с 22 столбцами - столбец будет отвечать за число действий в неделю. Посмотрим, какие выводы на ее основе можно сделать "
   ]
  },
  {
   "cell_type": "code",
   "execution_count": 48,
   "id": "89aaf8bf",
   "metadata": {},
   "outputs": [
    {
     "data": {
      "text/plain": [
       "Text(0, 0.5, 'number of actions')"
      ]
     },
     "execution_count": 48,
     "metadata": {},
     "output_type": "execute_result"
    },
    {
     "data": {
      "image/png": "[encoded data removed]",
      "text/plain": [
       "<Figure size 432x288 with 1 Axes>"
      ]
     },
     "metadata": {
      "needs_background": "light"
     },
     "output_type": "display_data"
    }
   ],
   "source": [
    "df['seconds'].astype(int)\n",
    "\n",
    "h = df_show['seconds'].hist(bins = 22)\n",
    "\n",
    "h = df_click['seconds'].hist(bins = 22)\n",
    "\n",
    "h = df_order['seconds'].hist(bins = 22)\n",
    "\n",
    "plt.xlabel(\"timeline\")\n",
    "plt.ylabel(\"number of actions\")"
   ]
  },
  {
   "cell_type": "raw",
   "id": "a9970c78",
   "metadata": {},
   "source": [
    "Чтобы лучше всё разглядеть, увеличим график"
   ]
  },
  {
   "cell_type": "code",
   "execution_count": 47,
   "id": "6f948767",
   "metadata": {},
   "outputs": [
    {
     "data": {
      "text/plain": [
       "Text(0, 0.5, 'number of actions')"
      ]
     },
     "execution_count": 47,
     "metadata": {},
     "output_type": "execute_result"
    },
    {
     "data": {
      "image/png": "[encoded data removed]",
      "text/plain": [
       "<Figure size 720x360 with 1 Axes>"
      ]
     },
     "metadata": {
      "needs_background": "light"
     },
     "output_type": "display_data"
    }
   ],
   "source": [
    "plt.figure(figsize=(10, 5))\n",
    "\n",
    "h = df_show['seconds'].hist(bins = 22)\n",
    "h = df_click['seconds'].hist(bins = 22)\n",
    "h = df_order['seconds'].hist(bins = 22)\n",
    "\n",
    "plt.xlabel(\"timeline\")\n",
    "plt.ylabel(\"number of actions\")"
   ]
  },
  {
   "cell_type": "raw",
   "id": "ccfa6733",
   "metadata": {},
   "source": [
    "Здесь за график числа показов отвечает синий цвет, за график числа кликов - оранжевый, за график покупок - зеленый\n",
    "Можно видеть, что графики показов и кликов похожи: \n",
    "    практически везде где возрастает один, возрастает и другой;\n",
    "    где один убывает, другой также убывает\n",
    "А вот с покупками ситуация иная: \n",
    "    в точке 6.3620 график покупок начинает возрастать, когда другие два убывают;\n",
    "    в точке 6.3630 график покупок убывает, когда другие два заметно возрастают\n",
    "    \n",
    "Можно сделать вывод, между числом показов и числом кликов есть корреляция\n",
    "Чило покупок же зависит от числа показов и числа кликов сильно\n",
    "\n",
    "На основании всего вышеперечисленного считаю, что продать место баннера можно:\n",
    "    кликать на него будут, ведь число кликов зависит от числа показов\n",
    "    мы не потеряем наши заказы, так как число заказов не коррелирует напрямую с числом кликов, хоть какая-то связь и есть"
   ]
  }
 ],
 "metadata": {
  "kernelspec": {
   "display_name": "Python 3 (ipykernel)",
   "language": "python",
   "name": "python3"
  },
  "language_info": {
   "codemirror_mode": {
    "name": "ipython",
    "version": 3
   },
   "file_extension": ".py",
   "mimetype": "text/x-python",
   "name": "python",
   "nbconvert_exporter": "python",
   "pygments_lexer": "ipython3",
   "version": "3.9.12"
  }
 },
 "nbformat": 4,
 "nbformat_minor": 5
}
