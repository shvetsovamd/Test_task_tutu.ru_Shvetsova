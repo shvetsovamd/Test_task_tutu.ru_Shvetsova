{
 "cells": [
  {
   "cell_type": "markdown",
   "id": "a030eb92",
   "metadata": {},
   "source": [
    "# Тестовое задание в TUTU.ru, Швецова М.Д."
   ]
  },
  {
   "cell_type": "code",
   "execution_count": 1,
   "id": "e3e5f02b",
   "metadata": {
    "id": "e3e5f02b"
   },
   "outputs": [],
   "source": [
    "import pandas as pd\n",
    "import matplotlib.pyplot as plt\n",
    "from datetime import datetime\n",
    "import numpy as np"
   ]
  },
  {
   "cell_type": "code",
   "execution_count": 2,
   "id": "39c2171c",
   "metadata": {
    "id": "39c2171c",
    "outputId": "d87c02ae-ea64-48a6-aea3-a626778940b2"
   },
   "outputs": [
    {
     "data": {
      "text/html": [
       "<div>\n",
       "<style scoped>\n",
       "    .dataframe tbody tr th:only-of-type {\n",
       "        vertical-align: middle;\n",
       "    }\n",
       "\n",
       "    .dataframe tbody tr th {\n",
       "        vertical-align: top;\n",
       "    }\n",
       "\n",
       "    .dataframe thead th {\n",
       "        text-align: right;\n",
       "    }\n",
       "</style>\n",
       "<table border=\"1\" class=\"dataframe\">\n",
       "  <thead>\n",
       "    <tr style=\"text-align: right;\">\n",
       "      <th></th>\n",
       "      <th>order_id</th>\n",
       "      <th>page_id</th>\n",
       "      <th>product</th>\n",
       "      <th>site_version</th>\n",
       "      <th>time</th>\n",
       "      <th>title</th>\n",
       "      <th>user</th>\n",
       "    </tr>\n",
       "  </thead>\n",
       "  <tbody>\n",
       "    <tr>\n",
       "      <th>0</th>\n",
       "      <td>NaN</td>\n",
       "      <td>3.0</td>\n",
       "      <td>company</td>\n",
       "      <td>mobile</td>\n",
       "      <td>2017-02-09 20:24:04</td>\n",
       "      <td>banner_show</td>\n",
       "      <td>user_0</td>\n",
       "    </tr>\n",
       "    <tr>\n",
       "      <th>1</th>\n",
       "      <td>NaN</td>\n",
       "      <td>3699687.0</td>\n",
       "      <td>company</td>\n",
       "      <td>mobile</td>\n",
       "      <td>2017-02-07 10:03:07</td>\n",
       "      <td>banner_show</td>\n",
       "      <td>user_0</td>\n",
       "    </tr>\n",
       "    <tr>\n",
       "      <th>2</th>\n",
       "      <td>NaN</td>\n",
       "      <td>14.0</td>\n",
       "      <td>sneakers</td>\n",
       "      <td>mobile</td>\n",
       "      <td>2017-01-29 13:02:23</td>\n",
       "      <td>banner_show</td>\n",
       "      <td>user_1</td>\n",
       "    </tr>\n",
       "    <tr>\n",
       "      <th>3</th>\n",
       "      <td>NaN</td>\n",
       "      <td>10362176.0</td>\n",
       "      <td>company</td>\n",
       "      <td>mobile</td>\n",
       "      <td>2017-04-12 15:39:19</td>\n",
       "      <td>banner_show</td>\n",
       "      <td>user_1</td>\n",
       "    </tr>\n",
       "    <tr>\n",
       "      <th>4</th>\n",
       "      <td>NaN</td>\n",
       "      <td>14.0</td>\n",
       "      <td>sneakers</td>\n",
       "      <td>mobile</td>\n",
       "      <td>2017-01-29 13:04:42</td>\n",
       "      <td>banner_click</td>\n",
       "      <td>user_1</td>\n",
       "    </tr>\n",
       "    <tr>\n",
       "      <th>...</th>\n",
       "      <td>...</td>\n",
       "      <td>...</td>\n",
       "      <td>...</td>\n",
       "      <td>...</td>\n",
       "      <td>...</td>\n",
       "      <td>...</td>\n",
       "      <td>...</td>\n",
       "    </tr>\n",
       "    <tr>\n",
       "      <th>8471221</th>\n",
       "      <td>NaN</td>\n",
       "      <td>24897184.0</td>\n",
       "      <td>accessories</td>\n",
       "      <td>desktop</td>\n",
       "      <td>2017-05-23 14:07:00</td>\n",
       "      <td>banner_show</td>\n",
       "      <td>user_4254616</td>\n",
       "    </tr>\n",
       "    <tr>\n",
       "      <th>8471222</th>\n",
       "      <td>NaN</td>\n",
       "      <td>24897190.0</td>\n",
       "      <td>clothes</td>\n",
       "      <td>mobile</td>\n",
       "      <td>2017-05-28 08:10:20</td>\n",
       "      <td>banner_show</td>\n",
       "      <td>user_4254617</td>\n",
       "    </tr>\n",
       "    <tr>\n",
       "      <th>8471223</th>\n",
       "      <td>NaN</td>\n",
       "      <td>24897203.0</td>\n",
       "      <td>sports_nutrition</td>\n",
       "      <td>mobile</td>\n",
       "      <td>2017-05-20 09:20:50</td>\n",
       "      <td>banner_show</td>\n",
       "      <td>user_4254618</td>\n",
       "    </tr>\n",
       "    <tr>\n",
       "      <th>8471224</th>\n",
       "      <td>NaN</td>\n",
       "      <td>24897205.0</td>\n",
       "      <td>sneakers</td>\n",
       "      <td>mobile</td>\n",
       "      <td>2017-05-28 19:25:42</td>\n",
       "      <td>banner_show</td>\n",
       "      <td>user_4254619</td>\n",
       "    </tr>\n",
       "    <tr>\n",
       "      <th>8471225</th>\n",
       "      <td>NaN</td>\n",
       "      <td>24897215.0</td>\n",
       "      <td>accessories</td>\n",
       "      <td>mobile</td>\n",
       "      <td>2017-05-31 09:18:24</td>\n",
       "      <td>banner_show</td>\n",
       "      <td>user_4254620</td>\n",
       "    </tr>\n",
       "  </tbody>\n",
       "</table>\n",
       "<p>8471226 rows × 7 columns</p>\n",
       "</div>"
      ],
      "text/plain": [
       "         order_id     page_id           product site_version  \\\n",
       "0             NaN         3.0           company       mobile   \n",
       "1             NaN   3699687.0           company       mobile   \n",
       "2             NaN        14.0          sneakers       mobile   \n",
       "3             NaN  10362176.0           company       mobile   \n",
       "4             NaN        14.0          sneakers       mobile   \n",
       "...           ...         ...               ...          ...   \n",
       "8471221       NaN  24897184.0       accessories      desktop   \n",
       "8471222       NaN  24897190.0           clothes       mobile   \n",
       "8471223       NaN  24897203.0  sports_nutrition       mobile   \n",
       "8471224       NaN  24897205.0          sneakers       mobile   \n",
       "8471225       NaN  24897215.0       accessories       mobile   \n",
       "\n",
       "                        time         title          user  \n",
       "0        2017-02-09 20:24:04   banner_show        user_0  \n",
       "1        2017-02-07 10:03:07   banner_show        user_0  \n",
       "2        2017-01-29 13:02:23   banner_show        user_1  \n",
       "3        2017-04-12 15:39:19   banner_show        user_1  \n",
       "4        2017-01-29 13:04:42  banner_click        user_1  \n",
       "...                      ...           ...           ...  \n",
       "8471221  2017-05-23 14:07:00   banner_show  user_4254616  \n",
       "8471222  2017-05-28 08:10:20   banner_show  user_4254617  \n",
       "8471223  2017-05-20 09:20:50   banner_show  user_4254618  \n",
       "8471224  2017-05-28 19:25:42   banner_show  user_4254619  \n",
       "8471225  2017-05-31 09:18:24   banner_show  user_4254620  \n",
       "\n",
       "[8471226 rows x 7 columns]"
      ]
     },
     "execution_count": 2,
     "metadata": {},
     "output_type": "execute_result"
    }
   ],
   "source": [
    "df = pd.read_csv(\"C:/Users/Мария/Downloads/ha_data.csv\", sep=\";\")\n",
    "df"
   ]
  },
  {
   "cell_type": "markdown",
   "id": "0o_nrPWnDYYp",
   "metadata": {
    "id": "0o_nrPWnDYYp"
   },
   "source": [
    "Посмотрим, каких действий сколько"
   ]
  },
  {
   "cell_type": "code",
   "execution_count": 3,
   "id": "a47b361a",
   "metadata": {
    "id": "a47b361a",
    "outputId": "120bc1c1-bde7-4fc6-c50a-ca4e63abbcad"
   },
   "outputs": [
    {
     "data": {
      "text/plain": [
       "banner_show     7393319\n",
       "banner_click     829185\n",
       "order            248722\n",
       "Name: title, dtype: int64"
      ]
     },
     "execution_count": 3,
     "metadata": {},
     "output_type": "execute_result"
    }
   ],
   "source": [
    "events = df[\"title\"].value_counts()\n",
    "events"
   ]
  },
  {
   "cell_type": "markdown",
   "id": "QBowkryIDfU7",
   "metadata": {
    "id": "QBowkryIDfU7"
   },
   "source": [
    "Посмотрим, какой товар рекламиовался больше"
   ]
  },
  {
   "cell_type": "code",
   "execution_count": 4,
   "id": "84e961a3",
   "metadata": {
    "id": "84e961a3",
    "outputId": "6e9d50fb-285d-4857-d64b-304d0e0d6b0f"
   },
   "outputs": [
    {
     "data": {
      "text/html": [
       "<div>\n",
       "<style scoped>\n",
       "    .dataframe tbody tr th:only-of-type {\n",
       "        vertical-align: middle;\n",
       "    }\n",
       "\n",
       "    .dataframe tbody tr th {\n",
       "        vertical-align: top;\n",
       "    }\n",
       "\n",
       "    .dataframe thead th {\n",
       "        text-align: right;\n",
       "    }\n",
       "</style>\n",
       "<table border=\"1\" class=\"dataframe\">\n",
       "  <thead>\n",
       "    <tr style=\"text-align: right;\">\n",
       "      <th></th>\n",
       "      <th>product</th>\n",
       "    </tr>\n",
       "  </thead>\n",
       "  <tbody>\n",
       "    <tr>\n",
       "      <th>company</th>\n",
       "      <td>1580238</td>\n",
       "    </tr>\n",
       "    <tr>\n",
       "      <th>sports_nutrition</th>\n",
       "      <td>1465970</td>\n",
       "    </tr>\n",
       "    <tr>\n",
       "      <th>clothes</th>\n",
       "      <td>1453128</td>\n",
       "    </tr>\n",
       "    <tr>\n",
       "      <th>sneakers</th>\n",
       "      <td>1453029</td>\n",
       "    </tr>\n",
       "    <tr>\n",
       "      <th>accessories</th>\n",
       "      <td>1440954</td>\n",
       "    </tr>\n",
       "  </tbody>\n",
       "</table>\n",
       "</div>"
      ],
      "text/plain": [
       "                  product\n",
       "company           1580238\n",
       "sports_nutrition  1465970\n",
       "clothes           1453128\n",
       "sneakers          1453029\n",
       "accessories       1440954"
      ]
     },
     "execution_count": 4,
     "metadata": {},
     "output_type": "execute_result"
    }
   ],
   "source": [
    "poster = df[df[\"title\"] == \"banner_show\"]\n",
    "poster = poster[\"product\"].value_counts().to_frame()\n",
    "poster"
   ]
  },
  {
   "cell_type": "code",
   "execution_count": 5,
   "id": "9f602644",
   "metadata": {
    "id": "9f602644",
    "outputId": "e5608df8-961c-44e3-e95d-fb0115a59fcb"
   },
   "outputs": [
    {
     "data": {
      "text/plain": [
       "company             1580238\n",
       "sports_nutrition    1465970\n",
       "clothes             1453128\n",
       "sneakers            1453029\n",
       "accessories         1440954\n",
       "Name: product, dtype: int32"
      ]
     },
     "execution_count": 5,
     "metadata": {},
     "output_type": "execute_result"
    }
   ],
   "source": [
    "poster[\"product\"].astype(int)"
   ]
  },
  {
   "cell_type": "code",
   "execution_count": 6,
   "id": "ad94669a",
   "metadata": {
    "id": "ad94669a",
    "outputId": "e4b9d24c-2ac0-461e-ba65-9f85bfd04baf"
   },
   "outputs": [
    {
     "data": {
      "text/plain": [
       "(-1.1118834921298268,\n",
       " 1.1005658805776108,\n",
       " -1.1210389629642945,\n",
       " 1.1234556814681087)"
      ]
     },
     "execution_count": 6,
     "metadata": {},
     "output_type": "execute_result"
    },
    {
     "data": {
      "image/png": "[encoded data removed]",
      "text/plain": [
       "<Figure size 432x288 with 1 Axes>"
      ]
     },
     "metadata": {},
     "output_type": "display_data"
    }
   ],
   "source": [
    "vals = poster[\"product\"]\n",
    "labels = poster.index\n",
    "fig, ax = plt.subplots()\n",
    "ax.pie(vals, labels=labels, autopct='%1.1f%%')\n",
    "ax.axis(\"equal\")"
   ]
  },
  {
   "cell_type": "markdown",
   "id": "wbe62A4nDot8",
   "metadata": {
    "id": "wbe62A4nDot8"
   },
   "source": [
    "Как видно по диаграмме, на баннере все виды товаров рекламировались примерно в одинаковом количестве\n",
    "\n",
    "Посмотрим, на что больше кликали"
   ]
  },
  {
   "cell_type": "code",
   "execution_count": 7,
   "id": "2da25cd9",
   "metadata": {
    "id": "2da25cd9",
    "outputId": "85d5a6b3-0a52-4e96-c2bc-3458b986e49b"
   },
   "outputs": [
    {
     "name": "stdout",
     "output_type": "stream",
     "text": [
      "                  product\n",
      "clothes            220595\n",
      "sneakers           182597\n",
      "sports_nutrition   144918\n",
      "company            144821\n",
      "accessories        136254\n"
     ]
    },
    {
     "data": {
      "text/plain": [
       "(-1.1127684882479927,\n",
       " 1.1006080232499045,\n",
       " -1.1023965946393381,\n",
       " 1.1095333712328979)"
      ]
     },
     "execution_count": 7,
     "metadata": {},
     "output_type": "execute_result"
    },
    {
     "data": {
      "image/png": "[encoded data removed]",
      "text/plain": [
       "<Figure size 432x288 with 1 Axes>"
      ]
     },
     "metadata": {},
     "output_type": "display_data"
    }
   ],
   "source": [
    "clicks = df[df[\"title\"] == \"banner_click\"]\n",
    "clicks = clicks[\"product\"].value_counts().to_frame()\n",
    "print(clicks)\n",
    "\n",
    "vals = clicks[\"product\"]\n",
    "labels = clicks.index\n",
    "fig, ax = plt.subplots()\n",
    "ax.pie(vals, labels=labels, autopct='%1.1f%%')\n",
    "ax.axis(\"equal\")"
   ]
  },
  {
   "cell_type": "markdown",
   "id": "DmkFzNF_DvVG",
   "metadata": {
    "id": "DmkFzNF_DvVG"
   },
   "source": [
    "Здесь уже разница более ощутима: количество кликов на clothes заметно выше количества кликов на остальные разделы company - показов больше всего, однако по кликам на пердпоследнем месте\n",
    "\n",
    "Посмотрим, что чаще покупали"
   ]
  },
  {
   "cell_type": "code",
   "execution_count": 8,
   "id": "1e1c1250",
   "metadata": {
    "id": "1e1c1250",
    "outputId": "d73a4790-d78b-4254-bb1d-062d9127ca46"
   },
   "outputs": [
    {
     "name": "stdout",
     "output_type": "stream",
     "text": [
      "                  product\n",
      "clothes            112715\n",
      "sneakers            67719\n",
      "accessories         44551\n",
      "sports_nutrition    23737\n"
     ]
    },
    {
     "data": {
      "text/plain": [
       "(-1.1106565278237575,\n",
       " 1.1005074537058932,\n",
       " -1.1192095043207841,\n",
       " 1.1264155093560158)"
      ]
     },
     "execution_count": 8,
     "metadata": {},
     "output_type": "execute_result"
    },
    {
     "data": {
      "image/png": "[encoded data removed]",
      "text/plain": [
       "<Figure size 432x288 with 1 Axes>"
      ]
     },
     "metadata": {},
     "output_type": "display_data"
    }
   ],
   "source": [
    "bought = df[df[\"title\"] == \"order\"]\n",
    "bought = bought[\"product\"].value_counts().to_frame()\n",
    "print(bought)\n",
    "\n",
    "vals = bought[\"product\"]\n",
    "labels = bought.index\n",
    "fig, ax = plt.subplots()\n",
    "ax.pie(vals, labels=labels, autopct='%1.1f%%')\n",
    "ax.axis(\"equal\")"
   ]
  },
  {
   "cell_type": "markdown",
   "id": "IucrIfUhD3hT",
   "metadata": {
    "id": "IucrIfUhD3hT"
   },
   "source": [
    "Разница в объеме покупок в различных категориях очень заметна, цифры могут это подтвердить\n",
    "можно ли сделать вывод, что от количества кликов на баннер слабо зависит, купит ли пользователь товар, ведь если посмотреть на соотношение числа кликов, оно отличается гораздо менее сильно, чем соотношение покупок?\n",
    "\n",
    "Вывод делать еще рано. Поскольку нам известно время каждого из действий, есть возможность посмотреть, как во времени распределено число каждого из действий. От схожести распределений будет зависеть, возможна ли корреляция между ними. Построим несколько боксплотов для наглядности"
   ]
  },
  {
   "cell_type": "code",
   "execution_count": 11,
   "id": "9965c9b4",
   "metadata": {
    "id": "9965c9b4",
    "outputId": "2f2bb812-f723-4a3c-9c42-ab6bb8b2d46f"
   },
   "outputs": [
    {
     "data": {
      "text/html": [
       "<div>\n",
       "<style scoped>\n",
       "    .dataframe tbody tr th:only-of-type {\n",
       "        vertical-align: middle;\n",
       "    }\n",
       "\n",
       "    .dataframe tbody tr th {\n",
       "        vertical-align: top;\n",
       "    }\n",
       "\n",
       "    .dataframe thead th {\n",
       "        text-align: right;\n",
       "    }\n",
       "</style>\n",
       "<table border=\"1\" class=\"dataframe\">\n",
       "  <thead>\n",
       "    <tr style=\"text-align: right;\">\n",
       "      <th></th>\n",
       "      <th>order_id</th>\n",
       "      <th>page_id</th>\n",
       "      <th>product</th>\n",
       "      <th>site_version</th>\n",
       "      <th>time</th>\n",
       "      <th>title</th>\n",
       "      <th>user</th>\n",
       "      <th>seconds</th>\n",
       "    </tr>\n",
       "  </thead>\n",
       "  <tbody>\n",
       "    <tr>\n",
       "      <th>0</th>\n",
       "      <td>NaN</td>\n",
       "      <td>3.0</td>\n",
       "      <td>company</td>\n",
       "      <td>mobile</td>\n",
       "      <td>2017-02-09 20:24:04</td>\n",
       "      <td>banner_show</td>\n",
       "      <td>user_0</td>\n",
       "      <td>1.486672e+09</td>\n",
       "    </tr>\n",
       "    <tr>\n",
       "      <th>1</th>\n",
       "      <td>NaN</td>\n",
       "      <td>3699687.0</td>\n",
       "      <td>company</td>\n",
       "      <td>mobile</td>\n",
       "      <td>2017-02-07 10:03:07</td>\n",
       "      <td>banner_show</td>\n",
       "      <td>user_0</td>\n",
       "      <td>1.486462e+09</td>\n",
       "    </tr>\n",
       "    <tr>\n",
       "      <th>2</th>\n",
       "      <td>NaN</td>\n",
       "      <td>14.0</td>\n",
       "      <td>sneakers</td>\n",
       "      <td>mobile</td>\n",
       "      <td>2017-01-29 13:02:23</td>\n",
       "      <td>banner_show</td>\n",
       "      <td>user_1</td>\n",
       "      <td>1.485695e+09</td>\n",
       "    </tr>\n",
       "    <tr>\n",
       "      <th>3</th>\n",
       "      <td>NaN</td>\n",
       "      <td>10362176.0</td>\n",
       "      <td>company</td>\n",
       "      <td>mobile</td>\n",
       "      <td>2017-04-12 15:39:19</td>\n",
       "      <td>banner_show</td>\n",
       "      <td>user_1</td>\n",
       "      <td>1.492012e+09</td>\n",
       "    </tr>\n",
       "    <tr>\n",
       "      <th>4</th>\n",
       "      <td>NaN</td>\n",
       "      <td>14.0</td>\n",
       "      <td>sneakers</td>\n",
       "      <td>mobile</td>\n",
       "      <td>2017-01-29 13:04:42</td>\n",
       "      <td>banner_click</td>\n",
       "      <td>user_1</td>\n",
       "      <td>1.485695e+09</td>\n",
       "    </tr>\n",
       "    <tr>\n",
       "      <th>...</th>\n",
       "      <td>...</td>\n",
       "      <td>...</td>\n",
       "      <td>...</td>\n",
       "      <td>...</td>\n",
       "      <td>...</td>\n",
       "      <td>...</td>\n",
       "      <td>...</td>\n",
       "      <td>...</td>\n",
       "    </tr>\n",
       "    <tr>\n",
       "      <th>8471221</th>\n",
       "      <td>NaN</td>\n",
       "      <td>24897184.0</td>\n",
       "      <td>accessories</td>\n",
       "      <td>desktop</td>\n",
       "      <td>2017-05-23 14:07:00</td>\n",
       "      <td>banner_show</td>\n",
       "      <td>user_4254616</td>\n",
       "      <td>1.495548e+09</td>\n",
       "    </tr>\n",
       "    <tr>\n",
       "      <th>8471222</th>\n",
       "      <td>NaN</td>\n",
       "      <td>24897190.0</td>\n",
       "      <td>clothes</td>\n",
       "      <td>mobile</td>\n",
       "      <td>2017-05-28 08:10:20</td>\n",
       "      <td>banner_show</td>\n",
       "      <td>user_4254617</td>\n",
       "      <td>1.495959e+09</td>\n",
       "    </tr>\n",
       "    <tr>\n",
       "      <th>8471223</th>\n",
       "      <td>NaN</td>\n",
       "      <td>24897203.0</td>\n",
       "      <td>sports_nutrition</td>\n",
       "      <td>mobile</td>\n",
       "      <td>2017-05-20 09:20:50</td>\n",
       "      <td>banner_show</td>\n",
       "      <td>user_4254618</td>\n",
       "      <td>1.495272e+09</td>\n",
       "    </tr>\n",
       "    <tr>\n",
       "      <th>8471224</th>\n",
       "      <td>NaN</td>\n",
       "      <td>24897205.0</td>\n",
       "      <td>sneakers</td>\n",
       "      <td>mobile</td>\n",
       "      <td>2017-05-28 19:25:42</td>\n",
       "      <td>banner_show</td>\n",
       "      <td>user_4254619</td>\n",
       "      <td>1.496000e+09</td>\n",
       "    </tr>\n",
       "    <tr>\n",
       "      <th>8471225</th>\n",
       "      <td>NaN</td>\n",
       "      <td>24897215.0</td>\n",
       "      <td>accessories</td>\n",
       "      <td>mobile</td>\n",
       "      <td>2017-05-31 09:18:24</td>\n",
       "      <td>banner_show</td>\n",
       "      <td>user_4254620</td>\n",
       "      <td>1.496222e+09</td>\n",
       "    </tr>\n",
       "  </tbody>\n",
       "</table>\n",
       "<p>8471226 rows × 8 columns</p>\n",
       "</div>"
      ],
      "text/plain": [
       "         order_id     page_id           product site_version  \\\n",
       "0             NaN         3.0           company       mobile   \n",
       "1             NaN   3699687.0           company       mobile   \n",
       "2             NaN        14.0          sneakers       mobile   \n",
       "3             NaN  10362176.0           company       mobile   \n",
       "4             NaN        14.0          sneakers       mobile   \n",
       "...           ...         ...               ...          ...   \n",
       "8471221       NaN  24897184.0       accessories      desktop   \n",
       "8471222       NaN  24897190.0           clothes       mobile   \n",
       "8471223       NaN  24897203.0  sports_nutrition       mobile   \n",
       "8471224       NaN  24897205.0          sneakers       mobile   \n",
       "8471225       NaN  24897215.0       accessories       mobile   \n",
       "\n",
       "                        time         title          user       seconds  \n",
       "0        2017-02-09 20:24:04   banner_show        user_0  1.486672e+09  \n",
       "1        2017-02-07 10:03:07   banner_show        user_0  1.486462e+09  \n",
       "2        2017-01-29 13:02:23   banner_show        user_1  1.485695e+09  \n",
       "3        2017-04-12 15:39:19   banner_show        user_1  1.492012e+09  \n",
       "4        2017-01-29 13:04:42  banner_click        user_1  1.485695e+09  \n",
       "...                      ...           ...           ...           ...  \n",
       "8471221  2017-05-23 14:07:00   banner_show  user_4254616  1.495548e+09  \n",
       "8471222  2017-05-28 08:10:20   banner_show  user_4254617  1.495959e+09  \n",
       "8471223  2017-05-20 09:20:50   banner_show  user_4254618  1.495272e+09  \n",
       "8471224  2017-05-28 19:25:42   banner_show  user_4254619  1.496000e+09  \n",
       "8471225  2017-05-31 09:18:24   banner_show  user_4254620  1.496222e+09  \n",
       "\n",
       "[8471226 rows x 8 columns]"
      ]
     },
     "execution_count": 11,
     "metadata": {},
     "output_type": "execute_result"
    }
   ],
   "source": [
    "df[\"seconds\"] = df['time'].map(lambda x: (datetime.strptime(x, \"%Y-%m-%d %H:%M:%S\") - datetime(1970, 1, 1)).total_seconds())\n",
    "df"
   ]
  },
  {
   "cell_type": "code",
   "execution_count": 12,
   "id": "ab2c2b43",
   "metadata": {},
   "outputs": [
    {
     "data": {
      "text/html": [
       "<div>\n",
       "<style scoped>\n",
       "    .dataframe tbody tr th:only-of-type {\n",
       "        vertical-align: middle;\n",
       "    }\n",
       "\n",
       "    .dataframe tbody tr th {\n",
       "        vertical-align: top;\n",
       "    }\n",
       "\n",
       "    .dataframe thead th {\n",
       "        text-align: right;\n",
       "    }\n",
       "</style>\n",
       "<table border=\"1\" class=\"dataframe\">\n",
       "  <thead>\n",
       "    <tr style=\"text-align: right;\">\n",
       "      <th></th>\n",
       "      <th>order_id</th>\n",
       "      <th>page_id</th>\n",
       "      <th>product</th>\n",
       "      <th>site_version</th>\n",
       "      <th>time</th>\n",
       "      <th>title</th>\n",
       "      <th>user</th>\n",
       "      <th>seconds</th>\n",
       "      <th>daytime</th>\n",
       "    </tr>\n",
       "  </thead>\n",
       "  <tbody>\n",
       "    <tr>\n",
       "      <th>0</th>\n",
       "      <td>NaN</td>\n",
       "      <td>3.0</td>\n",
       "      <td>company</td>\n",
       "      <td>mobile</td>\n",
       "      <td>2017-02-09 20:24:04</td>\n",
       "      <td>banner_show</td>\n",
       "      <td>user_0</td>\n",
       "      <td>1.486672e+09</td>\n",
       "      <td>-2.208915e+09</td>\n",
       "    </tr>\n",
       "    <tr>\n",
       "      <th>1</th>\n",
       "      <td>NaN</td>\n",
       "      <td>3699687.0</td>\n",
       "      <td>company</td>\n",
       "      <td>mobile</td>\n",
       "      <td>2017-02-07 10:03:07</td>\n",
       "      <td>banner_show</td>\n",
       "      <td>user_0</td>\n",
       "      <td>1.486462e+09</td>\n",
       "      <td>-2.208953e+09</td>\n",
       "    </tr>\n",
       "    <tr>\n",
       "      <th>2</th>\n",
       "      <td>NaN</td>\n",
       "      <td>14.0</td>\n",
       "      <td>sneakers</td>\n",
       "      <td>mobile</td>\n",
       "      <td>2017-01-29 13:02:23</td>\n",
       "      <td>banner_show</td>\n",
       "      <td>user_1</td>\n",
       "      <td>1.485695e+09</td>\n",
       "      <td>-2.208942e+09</td>\n",
       "    </tr>\n",
       "    <tr>\n",
       "      <th>3</th>\n",
       "      <td>NaN</td>\n",
       "      <td>10362176.0</td>\n",
       "      <td>company</td>\n",
       "      <td>mobile</td>\n",
       "      <td>2017-04-12 15:39:19</td>\n",
       "      <td>banner_show</td>\n",
       "      <td>user_1</td>\n",
       "      <td>1.492012e+09</td>\n",
       "      <td>-2.208932e+09</td>\n",
       "    </tr>\n",
       "    <tr>\n",
       "      <th>4</th>\n",
       "      <td>NaN</td>\n",
       "      <td>14.0</td>\n",
       "      <td>sneakers</td>\n",
       "      <td>mobile</td>\n",
       "      <td>2017-01-29 13:04:42</td>\n",
       "      <td>banner_click</td>\n",
       "      <td>user_1</td>\n",
       "      <td>1.485695e+09</td>\n",
       "      <td>-2.208942e+09</td>\n",
       "    </tr>\n",
       "    <tr>\n",
       "      <th>...</th>\n",
       "      <td>...</td>\n",
       "      <td>...</td>\n",
       "      <td>...</td>\n",
       "      <td>...</td>\n",
       "      <td>...</td>\n",
       "      <td>...</td>\n",
       "      <td>...</td>\n",
       "      <td>...</td>\n",
       "      <td>...</td>\n",
       "    </tr>\n",
       "    <tr>\n",
       "      <th>8471221</th>\n",
       "      <td>NaN</td>\n",
       "      <td>24897184.0</td>\n",
       "      <td>accessories</td>\n",
       "      <td>desktop</td>\n",
       "      <td>2017-05-23 14:07:00</td>\n",
       "      <td>banner_show</td>\n",
       "      <td>user_4254616</td>\n",
       "      <td>1.495548e+09</td>\n",
       "      <td>-2.208938e+09</td>\n",
       "    </tr>\n",
       "    <tr>\n",
       "      <th>8471222</th>\n",
       "      <td>NaN</td>\n",
       "      <td>24897190.0</td>\n",
       "      <td>clothes</td>\n",
       "      <td>mobile</td>\n",
       "      <td>2017-05-28 08:10:20</td>\n",
       "      <td>banner_show</td>\n",
       "      <td>user_4254617</td>\n",
       "      <td>1.495959e+09</td>\n",
       "      <td>-2.208959e+09</td>\n",
       "    </tr>\n",
       "    <tr>\n",
       "      <th>8471223</th>\n",
       "      <td>NaN</td>\n",
       "      <td>24897203.0</td>\n",
       "      <td>sports_nutrition</td>\n",
       "      <td>mobile</td>\n",
       "      <td>2017-05-20 09:20:50</td>\n",
       "      <td>banner_show</td>\n",
       "      <td>user_4254618</td>\n",
       "      <td>1.495272e+09</td>\n",
       "      <td>-2.208955e+09</td>\n",
       "    </tr>\n",
       "    <tr>\n",
       "      <th>8471224</th>\n",
       "      <td>NaN</td>\n",
       "      <td>24897205.0</td>\n",
       "      <td>sneakers</td>\n",
       "      <td>mobile</td>\n",
       "      <td>2017-05-28 19:25:42</td>\n",
       "      <td>banner_show</td>\n",
       "      <td>user_4254619</td>\n",
       "      <td>1.496000e+09</td>\n",
       "      <td>-2.208919e+09</td>\n",
       "    </tr>\n",
       "    <tr>\n",
       "      <th>8471225</th>\n",
       "      <td>NaN</td>\n",
       "      <td>24897215.0</td>\n",
       "      <td>accessories</td>\n",
       "      <td>mobile</td>\n",
       "      <td>2017-05-31 09:18:24</td>\n",
       "      <td>banner_show</td>\n",
       "      <td>user_4254620</td>\n",
       "      <td>1.496222e+09</td>\n",
       "      <td>-2.208955e+09</td>\n",
       "    </tr>\n",
       "  </tbody>\n",
       "</table>\n",
       "<p>8471226 rows × 9 columns</p>\n",
       "</div>"
      ],
      "text/plain": [
       "         order_id     page_id           product site_version  \\\n",
       "0             NaN         3.0           company       mobile   \n",
       "1             NaN   3699687.0           company       mobile   \n",
       "2             NaN        14.0          sneakers       mobile   \n",
       "3             NaN  10362176.0           company       mobile   \n",
       "4             NaN        14.0          sneakers       mobile   \n",
       "...           ...         ...               ...          ...   \n",
       "8471221       NaN  24897184.0       accessories      desktop   \n",
       "8471222       NaN  24897190.0           clothes       mobile   \n",
       "8471223       NaN  24897203.0  sports_nutrition       mobile   \n",
       "8471224       NaN  24897205.0          sneakers       mobile   \n",
       "8471225       NaN  24897215.0       accessories       mobile   \n",
       "\n",
       "                        time         title          user       seconds  \\\n",
       "0        2017-02-09 20:24:04   banner_show        user_0  1.486672e+09   \n",
       "1        2017-02-07 10:03:07   banner_show        user_0  1.486462e+09   \n",
       "2        2017-01-29 13:02:23   banner_show        user_1  1.485695e+09   \n",
       "3        2017-04-12 15:39:19   banner_show        user_1  1.492012e+09   \n",
       "4        2017-01-29 13:04:42  banner_click        user_1  1.485695e+09   \n",
       "...                      ...           ...           ...           ...   \n",
       "8471221  2017-05-23 14:07:00   banner_show  user_4254616  1.495548e+09   \n",
       "8471222  2017-05-28 08:10:20   banner_show  user_4254617  1.495959e+09   \n",
       "8471223  2017-05-20 09:20:50   banner_show  user_4254618  1.495272e+09   \n",
       "8471224  2017-05-28 19:25:42   banner_show  user_4254619  1.496000e+09   \n",
       "8471225  2017-05-31 09:18:24   banner_show  user_4254620  1.496222e+09   \n",
       "\n",
       "              daytime  \n",
       "0       -2.208915e+09  \n",
       "1       -2.208953e+09  \n",
       "2       -2.208942e+09  \n",
       "3       -2.208932e+09  \n",
       "4       -2.208942e+09  \n",
       "...               ...  \n",
       "8471221 -2.208938e+09  \n",
       "8471222 -2.208959e+09  \n",
       "8471223 -2.208955e+09  \n",
       "8471224 -2.208919e+09  \n",
       "8471225 -2.208955e+09  \n",
       "\n",
       "[8471226 rows x 9 columns]"
      ]
     },
     "execution_count": 12,
     "metadata": {},
     "output_type": "execute_result"
    }
   ],
   "source": [
    "df[\"daytime\"] = df['time'].map(lambda x: (datetime.strptime(x.split()[1], \"%H:%M:%S\") - datetime(1970, 1, 1)).total_seconds())\n",
    "df"
   ]
  },
  {
   "cell_type": "code",
   "execution_count": 13,
   "id": "02a2f960",
   "metadata": {
    "id": "02a2f960",
    "outputId": "a81bec79-e4e8-4898-e4be-84d94c15113c"
   },
   "outputs": [
    {
     "name": "stderr",
     "output_type": "stream",
     "text": [
      "C:\\Users\\Мария\\AppData\\Local\\Temp\\ipykernel_9336\\2942295996.py:11: UserWarning: FixedFormatter should only be used together with FixedLocator\n",
      "  ax.set_xticklabels(np.repeat([\"banner_show\", \"order\", \"banner_click\"], 1), rotation=0, fontsize=12)\n"
     ]
    },
    {
     "data": {
      "image/png": "[encoded data removed]",
      "text/plain": [
       "<Figure size 720x504 with 1 Axes>"
      ]
     },
     "metadata": {
      "needs_background": "light"
     },
     "output_type": "display_data"
    }
   ],
   "source": [
    "df_show = df.loc[df[\"title\"] == \"banner_show\"]\n",
    "df_order = df.loc[df[\"title\"] == \"order\"]\n",
    "df_click = df.loc[df[\"title\"] == \"banner_click\"]\n",
    "\n",
    "data = [df_show[\"seconds\"], df_order[\"seconds\"], df_click[\"seconds\"]]\n",
    "\n",
    "fig = plt.figure(figsize =(10, 7))\n",
    "\n",
    "# Creating axes instance\n",
    "ax = fig.add_axes([0, 0, 1, 1])\n",
    "ax.set_xticklabels(np.repeat([\"banner_show\", \"order\", \"banner_click\"], 1), rotation=0, fontsize=12)\n",
    "\n",
    "# Creating plot\n",
    "bp = ax.boxplot(data)\n",
    "\n",
    "plt.xlabel(\"boxplits\")\n",
    "plt.ylabel(\"seconds\")\n",
    "\n",
    "# show plot\n",
    "plt.show()"
   ]
  },
  {
   "cell_type": "markdown",
   "id": "6RglkipdEAVG",
   "metadata": {
    "id": "6RglkipdEAVG"
   },
   "source": [
    "Все три графика схожи между собой, а графики числа показов баннера и числа кликов и вовсе совпадают. Интересно, что медиана графика заказов чуть ниже медиан других графиков\n",
    "\n",
    "Видно, что действия выполнялись в один и тот же период, также можно отметить, что между числом кликов и числом показов есть прямая корреляция. Боксплот для числа заказов отличается от остальных графиков."
   ]
  },
  {
   "cell_type": "markdown",
   "id": "5d2fa064",
   "metadata": {},
   "source": [
    "Посмотрим на зависимость числа показов, заказов и кликов от времени дня"
   ]
  },
  {
   "cell_type": "code",
   "execution_count": 14,
   "id": "80283c59",
   "metadata": {},
   "outputs": [
    {
     "data": {
      "text/html": [
       "<div>\n",
       "<style scoped>\n",
       "    .dataframe tbody tr th:only-of-type {\n",
       "        vertical-align: middle;\n",
       "    }\n",
       "\n",
       "    .dataframe tbody tr th {\n",
       "        vertical-align: top;\n",
       "    }\n",
       "\n",
       "    .dataframe thead th {\n",
       "        text-align: right;\n",
       "    }\n",
       "</style>\n",
       "<table border=\"1\" class=\"dataframe\">\n",
       "  <thead>\n",
       "    <tr style=\"text-align: right;\">\n",
       "      <th></th>\n",
       "      <th>order_id</th>\n",
       "      <th>page_id</th>\n",
       "      <th>product</th>\n",
       "      <th>site_version</th>\n",
       "      <th>time</th>\n",
       "      <th>title</th>\n",
       "      <th>user</th>\n",
       "      <th>seconds</th>\n",
       "      <th>daytime</th>\n",
       "    </tr>\n",
       "  </thead>\n",
       "  <tbody>\n",
       "    <tr>\n",
       "      <th>16138</th>\n",
       "      <td>NaN</td>\n",
       "      <td>23473.0</td>\n",
       "      <td>sports_nutrition</td>\n",
       "      <td>mobile</td>\n",
       "      <td>2017-02-02 00:00:00</td>\n",
       "      <td>banner_show</td>\n",
       "      <td>user_5555</td>\n",
       "      <td>1.485994e+09</td>\n",
       "      <td>-2.208989e+09</td>\n",
       "    </tr>\n",
       "    <tr>\n",
       "      <th>6436824</th>\n",
       "      <td>130063.0</td>\n",
       "      <td>NaN</td>\n",
       "      <td>clothes</td>\n",
       "      <td>mobile</td>\n",
       "      <td>2017-05-03 00:00:00</td>\n",
       "      <td>order</td>\n",
       "      <td>user_3070982</td>\n",
       "      <td>1.493770e+09</td>\n",
       "      <td>-2.208989e+09</td>\n",
       "    </tr>\n",
       "    <tr>\n",
       "      <th>2157609</th>\n",
       "      <td>NaN</td>\n",
       "      <td>4866077.0</td>\n",
       "      <td>sports_nutrition</td>\n",
       "      <td>mobile</td>\n",
       "      <td>2017-02-08 00:00:00</td>\n",
       "      <td>banner_show</td>\n",
       "      <td>user_935754</td>\n",
       "      <td>1.486512e+09</td>\n",
       "      <td>-2.208989e+09</td>\n",
       "    </tr>\n",
       "    <tr>\n",
       "      <th>4955581</th>\n",
       "      <td>484029.0</td>\n",
       "      <td>NaN</td>\n",
       "      <td>clothes</td>\n",
       "      <td>desktop</td>\n",
       "      <td>2017-04-04 00:00:00</td>\n",
       "      <td>order</td>\n",
       "      <td>user_2319072</td>\n",
       "      <td>1.491264e+09</td>\n",
       "      <td>-2.208989e+09</td>\n",
       "    </tr>\n",
       "    <tr>\n",
       "      <th>6062338</th>\n",
       "      <td>NaN</td>\n",
       "      <td>16158459.0</td>\n",
       "      <td>clothes</td>\n",
       "      <td>mobile</td>\n",
       "      <td>2017-04-17 00:00:00</td>\n",
       "      <td>banner_show</td>\n",
       "      <td>user_2868268</td>\n",
       "      <td>1.492387e+09</td>\n",
       "      <td>-2.208989e+09</td>\n",
       "    </tr>\n",
       "    <tr>\n",
       "      <th>...</th>\n",
       "      <td>...</td>\n",
       "      <td>...</td>\n",
       "      <td>...</td>\n",
       "      <td>...</td>\n",
       "      <td>...</td>\n",
       "      <td>...</td>\n",
       "      <td>...</td>\n",
       "      <td>...</td>\n",
       "      <td>...</td>\n",
       "    </tr>\n",
       "    <tr>\n",
       "      <th>834692</th>\n",
       "      <td>NaN</td>\n",
       "      <td>20384410.0</td>\n",
       "      <td>sneakers</td>\n",
       "      <td>mobile</td>\n",
       "      <td>2017-05-18 23:59:59</td>\n",
       "      <td>banner_show</td>\n",
       "      <td>user_333364</td>\n",
       "      <td>1.495152e+09</td>\n",
       "      <td>-2.208902e+09</td>\n",
       "    </tr>\n",
       "    <tr>\n",
       "      <th>5661634</th>\n",
       "      <td>NaN</td>\n",
       "      <td>14952030.0</td>\n",
       "      <td>sports_nutrition</td>\n",
       "      <td>mobile</td>\n",
       "      <td>2017-04-30 23:59:59</td>\n",
       "      <td>banner_show</td>\n",
       "      <td>user_2662392</td>\n",
       "      <td>1.493597e+09</td>\n",
       "      <td>-2.208902e+09</td>\n",
       "    </tr>\n",
       "    <tr>\n",
       "      <th>5872062</th>\n",
       "      <td>NaN</td>\n",
       "      <td>15591158.0</td>\n",
       "      <td>sports_nutrition</td>\n",
       "      <td>desktop</td>\n",
       "      <td>2017-05-01 23:59:59</td>\n",
       "      <td>banner_show</td>\n",
       "      <td>user_2769134</td>\n",
       "      <td>1.493683e+09</td>\n",
       "      <td>-2.208902e+09</td>\n",
       "    </tr>\n",
       "    <tr>\n",
       "      <th>190392</th>\n",
       "      <td>NaN</td>\n",
       "      <td>18877041.0</td>\n",
       "      <td>sneakers</td>\n",
       "      <td>mobile</td>\n",
       "      <td>2017-04-04 23:59:59</td>\n",
       "      <td>banner_show</td>\n",
       "      <td>user_72401</td>\n",
       "      <td>1.491350e+09</td>\n",
       "      <td>-2.208902e+09</td>\n",
       "    </tr>\n",
       "    <tr>\n",
       "      <th>1928950</th>\n",
       "      <td>NaN</td>\n",
       "      <td>4891013.0</td>\n",
       "      <td>company</td>\n",
       "      <td>mobile</td>\n",
       "      <td>2017-02-12 23:59:59</td>\n",
       "      <td>banner_show</td>\n",
       "      <td>user_820491</td>\n",
       "      <td>1.486944e+09</td>\n",
       "      <td>-2.208902e+09</td>\n",
       "    </tr>\n",
       "  </tbody>\n",
       "</table>\n",
       "<p>8471226 rows × 9 columns</p>\n",
       "</div>"
      ],
      "text/plain": [
       "         order_id     page_id           product site_version  \\\n",
       "16138         NaN     23473.0  sports_nutrition       mobile   \n",
       "6436824  130063.0         NaN           clothes       mobile   \n",
       "2157609       NaN   4866077.0  sports_nutrition       mobile   \n",
       "4955581  484029.0         NaN           clothes      desktop   \n",
       "6062338       NaN  16158459.0           clothes       mobile   \n",
       "...           ...         ...               ...          ...   \n",
       "834692        NaN  20384410.0          sneakers       mobile   \n",
       "5661634       NaN  14952030.0  sports_nutrition       mobile   \n",
       "5872062       NaN  15591158.0  sports_nutrition      desktop   \n",
       "190392        NaN  18877041.0          sneakers       mobile   \n",
       "1928950       NaN   4891013.0           company       mobile   \n",
       "\n",
       "                        time        title          user       seconds  \\\n",
       "16138    2017-02-02 00:00:00  banner_show     user_5555  1.485994e+09   \n",
       "6436824  2017-05-03 00:00:00        order  user_3070982  1.493770e+09   \n",
       "2157609  2017-02-08 00:00:00  banner_show   user_935754  1.486512e+09   \n",
       "4955581  2017-04-04 00:00:00        order  user_2319072  1.491264e+09   \n",
       "6062338  2017-04-17 00:00:00  banner_show  user_2868268  1.492387e+09   \n",
       "...                      ...          ...           ...           ...   \n",
       "834692   2017-05-18 23:59:59  banner_show   user_333364  1.495152e+09   \n",
       "5661634  2017-04-30 23:59:59  banner_show  user_2662392  1.493597e+09   \n",
       "5872062  2017-05-01 23:59:59  banner_show  user_2769134  1.493683e+09   \n",
       "190392   2017-04-04 23:59:59  banner_show    user_72401  1.491350e+09   \n",
       "1928950  2017-02-12 23:59:59  banner_show   user_820491  1.486944e+09   \n",
       "\n",
       "              daytime  \n",
       "16138   -2.208989e+09  \n",
       "6436824 -2.208989e+09  \n",
       "2157609 -2.208989e+09  \n",
       "4955581 -2.208989e+09  \n",
       "6062338 -2.208989e+09  \n",
       "...               ...  \n",
       "834692  -2.208902e+09  \n",
       "5661634 -2.208902e+09  \n",
       "5872062 -2.208902e+09  \n",
       "190392  -2.208902e+09  \n",
       "1928950 -2.208902e+09  \n",
       "\n",
       "[8471226 rows x 9 columns]"
      ]
     },
     "execution_count": 14,
     "metadata": {},
     "output_type": "execute_result"
    }
   ],
   "source": [
    "df.sort_values(axis = 0, by=\"daytime\")"
   ]
  },
  {
   "cell_type": "code",
   "execution_count": 15,
   "id": "949f236e",
   "metadata": {},
   "outputs": [
    {
     "name": "stderr",
     "output_type": "stream",
     "text": [
      "C:\\ProgramData\\Anaconda3\\lib\\site-packages\\pandas\\core\\dtypes\\cast.py:1196: RuntimeWarning: invalid value encountered in cast\n",
      "  return values.astype(dtype, copy=copy)\n"
     ]
    },
    {
     "data": {
      "text/plain": [
       "Text(0, 0.5, 'number of actions')"
      ]
     },
     "execution_count": 15,
     "metadata": {},
     "output_type": "execute_result"
    },
    {
     "data": {
      "image/png": "[encoded data removed]",
      "text/plain": [
       "<Figure size 432x288 with 1 Axes>"
      ]
     },
     "metadata": {
      "needs_background": "light"
     },
     "output_type": "display_data"
    }
   ],
   "source": [
    "df['daytime'].astype(int)\n",
    "\n",
    "h = df_show['daytime'].hist(bins = 24)\n",
    "\n",
    "h = df_click['daytime'].hist(bins = 24)\n",
    "\n",
    "h = df_order['daytime'].hist(bins = 24)\n",
    "\n",
    "plt.xlabel(\"timeline\")\n",
    "plt.ylabel(\"number of actions\")"
   ]
  },
  {
   "cell_type": "markdown",
   "id": "33156bfd",
   "metadata": {},
   "source": [
    "Здесь за график числа показов отвечает синий цвет, за график числа кликов - оранжевый, за график покупок - зеленый. Видим, что прямой корреляции между заказами и показами/кликами нет: пик числа показов и числа кликов не совпадает с пиком числа заказов. Но нам-то важно не то, сколько накликали, а то, как после этого купили"
   ]
  },
  {
   "cell_type": "markdown",
   "id": "63f08a7f",
   "metadata": {},
   "source": [
    "Попробуем просторить гистограммы для числа кликов, числа заказов и числа показов баннера в зависимости от полного времени"
   ]
  },
  {
   "cell_type": "code",
   "execution_count": 16,
   "id": "bc5e69c2",
   "metadata": {
    "id": "bc5e69c2",
    "outputId": "864400f2-bf69-478d-865e-16385a110f09"
   },
   "outputs": [
    {
     "data": {
      "text/html": [
       "<div>\n",
       "<style scoped>\n",
       "    .dataframe tbody tr th:only-of-type {\n",
       "        vertical-align: middle;\n",
       "    }\n",
       "\n",
       "    .dataframe tbody tr th {\n",
       "        vertical-align: top;\n",
       "    }\n",
       "\n",
       "    .dataframe thead th {\n",
       "        text-align: right;\n",
       "    }\n",
       "</style>\n",
       "<table border=\"1\" class=\"dataframe\">\n",
       "  <thead>\n",
       "    <tr style=\"text-align: right;\">\n",
       "      <th></th>\n",
       "      <th>order_id</th>\n",
       "      <th>page_id</th>\n",
       "      <th>product</th>\n",
       "      <th>site_version</th>\n",
       "      <th>time</th>\n",
       "      <th>title</th>\n",
       "      <th>user</th>\n",
       "      <th>seconds</th>\n",
       "      <th>daytime</th>\n",
       "    </tr>\n",
       "  </thead>\n",
       "  <tbody>\n",
       "    <tr>\n",
       "      <th>2989252</th>\n",
       "      <td>NaN</td>\n",
       "      <td>7446868.0</td>\n",
       "      <td>accessories</td>\n",
       "      <td>desktop</td>\n",
       "      <td>2017-01-01 00:00:03</td>\n",
       "      <td>banner_show</td>\n",
       "      <td>user_1365850</td>\n",
       "      <td>1.483229e+09</td>\n",
       "      <td>-2.208989e+09</td>\n",
       "    </tr>\n",
       "    <tr>\n",
       "      <th>2407919</th>\n",
       "      <td>NaN</td>\n",
       "      <td>5639042.0</td>\n",
       "      <td>accessories</td>\n",
       "      <td>mobile</td>\n",
       "      <td>2017-01-01 00:00:05</td>\n",
       "      <td>banner_show</td>\n",
       "      <td>user_1064565</td>\n",
       "      <td>1.483229e+09</td>\n",
       "      <td>-2.208989e+09</td>\n",
       "    </tr>\n",
       "    <tr>\n",
       "      <th>2595058</th>\n",
       "      <td>NaN</td>\n",
       "      <td>7310704.0</td>\n",
       "      <td>clothes</td>\n",
       "      <td>desktop</td>\n",
       "      <td>2017-01-01 00:00:15</td>\n",
       "      <td>banner_show</td>\n",
       "      <td>user_1162467</td>\n",
       "      <td>1.483229e+09</td>\n",
       "      <td>-2.208989e+09</td>\n",
       "    </tr>\n",
       "    <tr>\n",
       "      <th>1764739</th>\n",
       "      <td>NaN</td>\n",
       "      <td>3745903.0</td>\n",
       "      <td>sneakers</td>\n",
       "      <td>mobile</td>\n",
       "      <td>2017-01-01 00:00:25</td>\n",
       "      <td>banner_show</td>\n",
       "      <td>user_742569</td>\n",
       "      <td>1.483229e+09</td>\n",
       "      <td>-2.208989e+09</td>\n",
       "    </tr>\n",
       "    <tr>\n",
       "      <th>3918929</th>\n",
       "      <td>NaN</td>\n",
       "      <td>10200275.0</td>\n",
       "      <td>company</td>\n",
       "      <td>desktop</td>\n",
       "      <td>2017-01-01 00:00:25</td>\n",
       "      <td>banner_show</td>\n",
       "      <td>user_1827807</td>\n",
       "      <td>1.483229e+09</td>\n",
       "      <td>-2.208989e+09</td>\n",
       "    </tr>\n",
       "    <tr>\n",
       "      <th>...</th>\n",
       "      <td>...</td>\n",
       "      <td>...</td>\n",
       "      <td>...</td>\n",
       "      <td>...</td>\n",
       "      <td>...</td>\n",
       "      <td>...</td>\n",
       "      <td>...</td>\n",
       "      <td>...</td>\n",
       "      <td>...</td>\n",
       "    </tr>\n",
       "    <tr>\n",
       "      <th>8151182</th>\n",
       "      <td>NaN</td>\n",
       "      <td>23601866.0</td>\n",
       "      <td>company</td>\n",
       "      <td>mobile</td>\n",
       "      <td>2017-05-31 23:59:37</td>\n",
       "      <td>banner_show</td>\n",
       "      <td>user_4047676</td>\n",
       "      <td>1.496275e+09</td>\n",
       "      <td>-2.208902e+09</td>\n",
       "    </tr>\n",
       "    <tr>\n",
       "      <th>8165105</th>\n",
       "      <td>NaN</td>\n",
       "      <td>23658876.0</td>\n",
       "      <td>clothes</td>\n",
       "      <td>desktop</td>\n",
       "      <td>2017-05-31 23:59:40</td>\n",
       "      <td>banner_show</td>\n",
       "      <td>user_4056326</td>\n",
       "      <td>1.496275e+09</td>\n",
       "      <td>-2.208902e+09</td>\n",
       "    </tr>\n",
       "    <tr>\n",
       "      <th>8363442</th>\n",
       "      <td>NaN</td>\n",
       "      <td>24446787.0</td>\n",
       "      <td>sports_nutrition</td>\n",
       "      <td>mobile</td>\n",
       "      <td>2017-05-31 23:59:51</td>\n",
       "      <td>banner_click</td>\n",
       "      <td>user_4182938</td>\n",
       "      <td>1.496275e+09</td>\n",
       "      <td>-2.208902e+09</td>\n",
       "    </tr>\n",
       "    <tr>\n",
       "      <th>7808442</th>\n",
       "      <td>NaN</td>\n",
       "      <td>22326691.0</td>\n",
       "      <td>clothes</td>\n",
       "      <td>mobile</td>\n",
       "      <td>2017-05-31 23:59:53</td>\n",
       "      <td>banner_show</td>\n",
       "      <td>user_3843064</td>\n",
       "      <td>1.496275e+09</td>\n",
       "      <td>-2.208902e+09</td>\n",
       "    </tr>\n",
       "    <tr>\n",
       "      <th>7880258</th>\n",
       "      <td>354948.0</td>\n",
       "      <td>NaN</td>\n",
       "      <td>clothes</td>\n",
       "      <td>desktop</td>\n",
       "      <td>2017-05-31 23:59:58</td>\n",
       "      <td>order</td>\n",
       "      <td>user_3884986</td>\n",
       "      <td>1.496275e+09</td>\n",
       "      <td>-2.208902e+09</td>\n",
       "    </tr>\n",
       "  </tbody>\n",
       "</table>\n",
       "<p>8471226 rows × 9 columns</p>\n",
       "</div>"
      ],
      "text/plain": [
       "         order_id     page_id           product site_version  \\\n",
       "2989252       NaN   7446868.0       accessories      desktop   \n",
       "2407919       NaN   5639042.0       accessories       mobile   \n",
       "2595058       NaN   7310704.0           clothes      desktop   \n",
       "1764739       NaN   3745903.0          sneakers       mobile   \n",
       "3918929       NaN  10200275.0           company      desktop   \n",
       "...           ...         ...               ...          ...   \n",
       "8151182       NaN  23601866.0           company       mobile   \n",
       "8165105       NaN  23658876.0           clothes      desktop   \n",
       "8363442       NaN  24446787.0  sports_nutrition       mobile   \n",
       "7808442       NaN  22326691.0           clothes       mobile   \n",
       "7880258  354948.0         NaN           clothes      desktop   \n",
       "\n",
       "                        time         title          user       seconds  \\\n",
       "2989252  2017-01-01 00:00:03   banner_show  user_1365850  1.483229e+09   \n",
       "2407919  2017-01-01 00:00:05   banner_show  user_1064565  1.483229e+09   \n",
       "2595058  2017-01-01 00:00:15   banner_show  user_1162467  1.483229e+09   \n",
       "1764739  2017-01-01 00:00:25   banner_show   user_742569  1.483229e+09   \n",
       "3918929  2017-01-01 00:00:25   banner_show  user_1827807  1.483229e+09   \n",
       "...                      ...           ...           ...           ...   \n",
       "8151182  2017-05-31 23:59:37   banner_show  user_4047676  1.496275e+09   \n",
       "8165105  2017-05-31 23:59:40   banner_show  user_4056326  1.496275e+09   \n",
       "8363442  2017-05-31 23:59:51  banner_click  user_4182938  1.496275e+09   \n",
       "7808442  2017-05-31 23:59:53   banner_show  user_3843064  1.496275e+09   \n",
       "7880258  2017-05-31 23:59:58         order  user_3884986  1.496275e+09   \n",
       "\n",
       "              daytime  \n",
       "2989252 -2.208989e+09  \n",
       "2407919 -2.208989e+09  \n",
       "2595058 -2.208989e+09  \n",
       "1764739 -2.208989e+09  \n",
       "3918929 -2.208989e+09  \n",
       "...               ...  \n",
       "8151182 -2.208902e+09  \n",
       "8165105 -2.208902e+09  \n",
       "8363442 -2.208902e+09  \n",
       "7808442 -2.208902e+09  \n",
       "7880258 -2.208902e+09  \n",
       "\n",
       "[8471226 rows x 9 columns]"
      ]
     },
     "execution_count": 16,
     "metadata": {},
     "output_type": "execute_result"
    }
   ],
   "source": [
    "df.sort_values(axis = 0, by=\"seconds\")"
   ]
  },
  {
   "cell_type": "markdown",
   "id": "q7dVkkiXEHKF",
   "metadata": {
    "id": "q7dVkkiXEHKF"
   },
   "source": [
    "После сортировки значений по времени можно заметить, что наблюдения проводились с 2017-01-10 по 2017-05-31, то есть практически ровно 5 месяцев. Судя по календарю за 2017 год, этот период равен 21 неделе и 4 дням. Построим же гистограмму с 22 столбцами - столбец будет отвечать за число действий в неделю. Посмотрим, какие выводы на ее основе можно сделать"
   ]
  },
  {
   "cell_type": "code",
   "execution_count": 17,
   "id": "24c3984b",
   "metadata": {
    "id": "24c3984b",
    "outputId": "8212160a-66db-45ac-a9a7-0edbb948da44"
   },
   "outputs": [
    {
     "data": {
      "text/plain": [
       "Text(0, 0.5, 'number of actions')"
      ]
     },
     "execution_count": 17,
     "metadata": {},
     "output_type": "execute_result"
    },
    {
     "data": {
      "image/png": "[encoded data removed]",
      "text/plain": [
       "<Figure size 432x288 with 1 Axes>"
      ]
     },
     "metadata": {
      "needs_background": "light"
     },
     "output_type": "display_data"
    }
   ],
   "source": [
    "df['seconds'].astype(int)\n",
    "\n",
    "h = df_show['seconds'].hist(bins = 22)\n",
    "\n",
    "h = df_click['seconds'].hist(bins = 22)\n",
    "\n",
    "h = df_order['seconds'].hist(bins = 22)\n",
    "\n",
    "plt.xlabel(\"timeline\")\n",
    "plt.ylabel(\"number of actions\")"
   ]
  },
  {
   "cell_type": "markdown",
   "id": "b7C-3jWKEOTG",
   "metadata": {
    "id": "b7C-3jWKEOTG"
   },
   "source": [
    "Чтобы лучше всё разглядеть, увеличим график"
   ]
  },
  {
   "cell_type": "code",
   "execution_count": 18,
   "id": "c0a6277c",
   "metadata": {
    "id": "c0a6277c",
    "outputId": "58f5cc25-6602-4611-8881-556d912eb2ab"
   },
   "outputs": [
    {
     "data": {
      "text/plain": [
       "Text(0, 0.5, 'number of actions')"
      ]
     },
     "execution_count": 18,
     "metadata": {},
     "output_type": "execute_result"
    },
    {
     "data": {
      "image/png": "[encoded data removed]",
      "text/plain": [
       "<Figure size 720x360 with 1 Axes>"
      ]
     },
     "metadata": {
      "needs_background": "light"
     },
     "output_type": "display_data"
    }
   ],
   "source": [
    "plt.figure(figsize=(10, 5))\n",
    "\n",
    "h = df_show['seconds'].hist(bins = 22)\n",
    "h = df_click['seconds'].hist(bins = 22)\n",
    "h = df_order['seconds'].hist(bins = 22)\n",
    "\n",
    "plt.xlabel(\"timeline\")\n",
    "plt.ylabel(\"number of actions\")"
   ]
  },
  {
   "cell_type": "markdown",
   "id": "U80we8ivET2C",
   "metadata": {
    "id": "U80we8ivET2C"
   },
   "source": [
    "Здесь за график числа показов отвечает синий цвет, за график числа кликов - оранжевый, за график покупок - зеленый\n",
    "Можно видеть, что графики показов и кликов похожи:\n",
    "    практически везде где возрастает один, возрастает и другой;\n",
    "    где один убывает, другой также убывает\n",
    "А вот с покупками ситуация иная:\n",
    "    в точке 6.3620 график покупок начинает возрастать, когда другие два убывают;\n",
    "    в точке 6.3630 график покупок убывает, когда другие два заметно возрастают"
   ]
  },
  {
   "cell_type": "markdown",
   "id": "d8442f49",
   "metadata": {},
   "source": [
    "А что если корреляция есть для одного из товаров? Тогда место для баннера можно не продавать, а оставить и отображать на баннере только напрямую коррелирующий товар. Проверим эту гипотезу. Смотрим, опять же, по зависимости время дня - показ, клик, заказ"
   ]
  },
  {
   "cell_type": "code",
   "execution_count": 22,
   "id": "c8fecc98",
   "metadata": {},
   "outputs": [
    {
     "data": {
      "image/png": "[encoded data removed]",
      "text/plain": [
       "<Figure size 432x288 with 1 Axes>"
      ]
     },
     "metadata": {
      "needs_background": "light"
     },
     "output_type": "display_data"
    },
    {
     "data": {
      "image/png": "[encoded data removed]",
      "text/plain": [
       "<Figure size 432x288 with 1 Axes>"
      ]
     },
     "metadata": {
      "needs_background": "light"
     },
     "output_type": "display_data"
    },
    {
     "data": {
      "image/png": "[encoded data removed]",
      "text/plain": [
       "<Figure size 432x288 with 1 Axes>"
      ]
     },
     "metadata": {
      "needs_background": "light"
     },
     "output_type": "display_data"
    },
    {
     "data": {
      "image/png": "[encoded data removed]",
      "text/plain": [
       "<Figure size 432x288 with 1 Axes>"
      ]
     },
     "metadata": {
      "needs_background": "light"
     },
     "output_type": "display_data"
    }
   ],
   "source": [
    "prod_type = ['clothes', 'sneakers', 'accessories', 'sports_nutrition']\n",
    "\n",
    "for prod in prod_type:\n",
    "    df_curr_show = df_show.loc[df_show[\"product\"] == prod]\n",
    "    df_curr_order = df_order.loc[df_order[\"product\"] == prod]\n",
    "    df_curr_click = df_click.loc[df_click[\"product\"] == prod]\n",
    "    \n",
    "    h = df_curr_show['daytime'].hist(bins = 24)\n",
    "    h = df_curr_click['daytime'].hist(bins = 24)\n",
    "    h = df_curr_order['daytime'].hist(bins = 24)\n",
    "\n",
    "    plt.xlabel(\"{}, timeline\".format(prod))\n",
    "    plt.ylabel(\"{}, number of actions\".format(prod))\n",
    "    \n",
    "    plt.show()\n",
    "    "
   ]
  },
  {
   "cell_type": "markdown",
   "id": "c5f63d4d",
   "metadata": {},
   "source": [
    "Прямой корреляции числа заказов с числом показов/кликов мы не видим ни для одного товара, можно лишь заметить, что число покупок коррелирует со временем дня - каждый из товаров активнее всего покупается в одном временном диапазоне. Также можно заметить, что при примерно одинаковом числе кликов и показов, одежду покупают в разы чаще, чем другие виды товаров"
   ]
  },
  {
   "cell_type": "markdown",
   "id": "51dc37ba",
   "metadata": {},
   "source": [
    "На основании всего вышеперечисленного считаю, что продать место баннера можно:\n",
    "    кликать на него будут, ведь число кликов зависит от числа показов - мы видим это на гистограммах;\n",
    "    мы не потеряем наши заказы, так как число заказов не коррелирует напрямую с числом кликов - при пике показов и кликов, пика числа заказов мы не видим"
   ]
  }
 ],
 "metadata": {
  "colab": {
   "provenance": []
  },
  "kernelspec": {
   "display_name": "Python 3 (ipykernel)",
   "language": "python",
   "name": "python3"
  },
  "language_info": {
   "codemirror_mode": {
    "name": "ipython",
    "version": 3
   },
   "file_extension": ".py",
   "mimetype": "text/x-python",
   "name": "python",
   "nbconvert_exporter": "python",
   "pygments_lexer": "ipython3",
   "version": "3.9.12"
  }
 },
 "nbformat": 4,
 "nbformat_minor": 5
}
